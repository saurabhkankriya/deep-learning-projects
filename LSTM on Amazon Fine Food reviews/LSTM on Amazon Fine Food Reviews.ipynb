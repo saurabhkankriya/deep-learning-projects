{
 "cells": [
  {
   "cell_type": "code",
   "execution_count": 1,
   "metadata": {
    "colab": {
     "base_uri": "https://localhost:8080/",
     "height": 35
    },
    "colab_type": "code",
    "id": "z5xzgIawlOWo",
    "outputId": "438e8230-9db7-4658-d896-6800ebb4ffb1"
   },
   "outputs": [
    {
     "name": "stderr",
     "output_type": "stream",
     "text": [
      "Using TensorFlow backend.\n"
     ]
    }
   ],
   "source": [
    "# import required libraries\n",
    "import pandas as pd\n",
    "import pickle\n",
    "import numpy\n",
    "from keras.datasets import imdb\n",
    "from keras.models import Sequential\n",
    "from keras.layers import Dense\n",
    "from keras.layers import LSTM\n",
    "from keras.layers.embeddings import Embedding\n",
    "from keras.preprocessing import sequence\n",
    "# fix random seed for reproducibility\n",
    "numpy.random.seed(7)"
   ]
  },
  {
   "cell_type": "code",
   "execution_count": 2,
   "metadata": {
    "colab": {
     "base_uri": "https://localhost:8080/",
     "height": 35
    },
    "colab_type": "code",
    "id": "EdPQ5Hb8krno",
    "outputId": "d18a9611-aaf2-4901-a4d3-16b68e7c8d9f"
   },
   "outputs": [
    {
     "name": "stdout",
     "output_type": "stream",
     "text": [
      "Drive already mounted at /content/drive; to attempt to forcibly remount, call drive.mount(\"/content/drive\", force_remount=True).\n"
     ]
    }
   ],
   "source": [
    "# Mounting Google drive on colab\n",
    "from google.colab import drive\n",
    "drive.mount('/content/drive')"
   ]
  },
  {
   "cell_type": "code",
   "execution_count": 3,
   "metadata": {
    "colab": {
     "base_uri": "https://localhost:8080/",
     "height": 35
    },
    "colab_type": "code",
    "id": "mW2ys5bylBGb",
    "outputId": "06d260c2-7390-4843-a8d8-dcb1e4755db5"
   },
   "outputs": [
    {
     "name": "stdout",
     "output_type": "stream",
     "text": [
      "['.config', 'drive', 'sample_data']\n"
     ]
    }
   ],
   "source": [
    "import os\n",
    "print(os.listdir(\".\"))"
   ]
  },
  {
   "cell_type": "code",
   "execution_count": 0,
   "metadata": {
    "colab": {},
    "colab_type": "code",
    "id": "sIj6YE6slEvx"
   },
   "outputs": [],
   "source": [
    "# Loading preprocessed final dataframe from google drive\n",
    "\n",
    "final = pd.read_pickle('/content/drive/My Drive/Aaic/final_0317.pkl')"
   ]
  },
  {
   "cell_type": "code",
   "execution_count": 5,
   "metadata": {
    "colab": {
     "base_uri": "https://localhost:8080/",
     "height": 35
    },
    "colab_type": "code",
    "id": "iKGgaUaHlSPZ",
    "outputId": "b6452a35-3fde-4d6e-f170-ec4f000d1856"
   },
   "outputs": [
    {
     "data": {
      "text/plain": [
       "(364171, 12)"
      ]
     },
     "execution_count": 5,
     "metadata": {
      "tags": []
     },
     "output_type": "execute_result"
    }
   ],
   "source": [
    "final.shape"
   ]
  },
  {
   "cell_type": "code",
   "execution_count": 6,
   "metadata": {
    "colab": {
     "base_uri": "https://localhost:8080/",
     "height": 87
    },
    "colab_type": "code",
    "id": "6UCyyx1alT8R",
    "outputId": "bdc9e56e-a56c-458d-c017-6fe4322a98a9"
   },
   "outputs": [
    {
     "data": {
      "text/plain": [
       "Index(['Id', 'ProductId', 'UserId', 'ProfileName', 'HelpfulnessNumerator',\n",
       "       'HelpfulnessDenominator', 'Score', 'Time', 'Summary', 'Text',\n",
       "       'CleanedText', 'CleanedSummary'],\n",
       "      dtype='object')"
      ]
     },
     "execution_count": 6,
     "metadata": {
      "tags": []
     },
     "output_type": "execute_result"
    }
   ],
   "source": [
    "final.columns"
   ]
  },
  {
   "cell_type": "code",
   "execution_count": 8,
   "metadata": {
    "colab": {
     "base_uri": "https://localhost:8080/",
     "height": 478
    },
    "colab_type": "code",
    "id": "QKKpY54elX_q",
    "outputId": "c8165b1f-ab6e-4670-baa4-049cc8e5c88e"
   },
   "outputs": [
    {
     "data": {
      "text/html": [
       "<div>\n",
       "<style scoped>\n",
       "    .dataframe tbody tr th:only-of-type {\n",
       "        vertical-align: middle;\n",
       "    }\n",
       "\n",
       "    .dataframe tbody tr th {\n",
       "        vertical-align: top;\n",
       "    }\n",
       "\n",
       "    .dataframe thead th {\n",
       "        text-align: right;\n",
       "    }\n",
       "</style>\n",
       "<table border=\"1\" class=\"dataframe\">\n",
       "  <thead>\n",
       "    <tr style=\"text-align: right;\">\n",
       "      <th></th>\n",
       "      <th>Id</th>\n",
       "      <th>ProductId</th>\n",
       "      <th>UserId</th>\n",
       "      <th>ProfileName</th>\n",
       "      <th>HelpfulnessNumerator</th>\n",
       "      <th>HelpfulnessDenominator</th>\n",
       "      <th>Score</th>\n",
       "      <th>Time</th>\n",
       "      <th>Summary</th>\n",
       "      <th>Text</th>\n",
       "      <th>CleanedText</th>\n",
       "      <th>CleanedSummary</th>\n",
       "    </tr>\n",
       "  </thead>\n",
       "  <tbody>\n",
       "    <tr>\n",
       "      <th>138706</th>\n",
       "      <td>150524</td>\n",
       "      <td>0006641040</td>\n",
       "      <td>ACITT7DI6IDDL</td>\n",
       "      <td>shari zychinski</td>\n",
       "      <td>0</td>\n",
       "      <td>0</td>\n",
       "      <td>1</td>\n",
       "      <td>939340800</td>\n",
       "      <td>EVERY book is educational</td>\n",
       "      <td>this witty little book makes my son laugh at l...</td>\n",
       "      <td>witty little book makes son laugh loud recite ...</td>\n",
       "      <td>every book educational</td>\n",
       "    </tr>\n",
       "    <tr>\n",
       "      <th>138688</th>\n",
       "      <td>150506</td>\n",
       "      <td>0006641040</td>\n",
       "      <td>A2IW4PEEKO2R0U</td>\n",
       "      <td>Tracy</td>\n",
       "      <td>1</td>\n",
       "      <td>1</td>\n",
       "      <td>1</td>\n",
       "      <td>1194739200</td>\n",
       "      <td>Love the book, miss the hard cover version</td>\n",
       "      <td>I grew up reading these Sendak books, and watc...</td>\n",
       "      <td>grew reading sendak books watching really rosi...</td>\n",
       "      <td>love book miss hard cover version</td>\n",
       "    </tr>\n",
       "    <tr>\n",
       "      <th>138689</th>\n",
       "      <td>150507</td>\n",
       "      <td>0006641040</td>\n",
       "      <td>A1S4A3IQ2MU7V4</td>\n",
       "      <td>sally sue \"sally sue\"</td>\n",
       "      <td>1</td>\n",
       "      <td>1</td>\n",
       "      <td>1</td>\n",
       "      <td>1191456000</td>\n",
       "      <td>chicken soup with rice months</td>\n",
       "      <td>This is a fun way for children to learn their ...</td>\n",
       "      <td>fun way children learn months year learn poems...</td>\n",
       "      <td>chicken soup rice months</td>\n",
       "    </tr>\n",
       "    <tr>\n",
       "      <th>138690</th>\n",
       "      <td>150508</td>\n",
       "      <td>0006641040</td>\n",
       "      <td>AZGXZ2UUK6X</td>\n",
       "      <td>Catherine Hallberg \"(Kate)\"</td>\n",
       "      <td>1</td>\n",
       "      <td>1</td>\n",
       "      <td>1</td>\n",
       "      <td>1076025600</td>\n",
       "      <td>a good swingy rhythm for reading aloud</td>\n",
       "      <td>This is a great little book to read aloud- it ...</td>\n",
       "      <td>great little book read aloud nice rhythm well ...</td>\n",
       "      <td>good swingy rhythm reading aloud</td>\n",
       "    </tr>\n",
       "    <tr>\n",
       "      <th>138691</th>\n",
       "      <td>150509</td>\n",
       "      <td>0006641040</td>\n",
       "      <td>A3CMRKGE0P909G</td>\n",
       "      <td>Teresa</td>\n",
       "      <td>3</td>\n",
       "      <td>4</td>\n",
       "      <td>1</td>\n",
       "      <td>1018396800</td>\n",
       "      <td>A great way to learn the months</td>\n",
       "      <td>This is a book of poetry about the months of t...</td>\n",
       "      <td>book poetry months year goes month cute little...</td>\n",
       "      <td>great way learn months</td>\n",
       "    </tr>\n",
       "  </tbody>\n",
       "</table>\n",
       "</div>"
      ],
      "text/plain": [
       "            Id  ...                     CleanedSummary\n",
       "138706  150524  ...             every book educational\n",
       "138688  150506  ...  love book miss hard cover version\n",
       "138689  150507  ...           chicken soup rice months\n",
       "138690  150508  ...   good swingy rhythm reading aloud\n",
       "138691  150509  ...             great way learn months\n",
       "\n",
       "[5 rows x 12 columns]"
      ]
     },
     "execution_count": 8,
     "metadata": {
      "tags": []
     },
     "output_type": "execute_result"
    }
   ],
   "source": [
    "final.head()"
   ]
  },
  {
   "cell_type": "code",
   "execution_count": 0,
   "metadata": {
    "colab": {},
    "colab_type": "code",
    "id": "DWYAbAxh54V3"
   },
   "outputs": [],
   "source": [
    "final_100k = final[:100000]"
   ]
  },
  {
   "cell_type": "code",
   "execution_count": 0,
   "metadata": {
    "colab": {},
    "colab_type": "code",
    "id": "-ugIeAhOmaDD"
   },
   "outputs": [],
   "source": [
    "# Create X and Y variable \n",
    "X = final_100k['CleanedText'].values\n",
    "y= final_100k['Score'].values"
   ]
  },
  {
   "cell_type": "code",
   "execution_count": 0,
   "metadata": {
    "colab": {},
    "colab_type": "code",
    "id": "iWpmXVzq5ir3"
   },
   "outputs": [],
   "source": [
    "# Splitting into train and test in the ratio 70:30\n",
    "from sklearn.model_selection import train_test_split\n",
    "\n",
    "X_train, X_test, y_train, y_test = train_test_split(X, y, test_size=0.30,shuffle=False, random_state=507)"
   ]
  },
  {
   "cell_type": "code",
   "execution_count": 0,
   "metadata": {
    "colab": {},
    "colab_type": "code",
    "id": "eDJq_4i0vbSf"
   },
   "outputs": [],
   "source": [
    "# https://stackoverflow.com/questions/51699001/tokenizer-texts-to-sequences-keras-tokenizer-gives-almost-all-zeros\n",
    "# https://www.kaggle.com/c/jigsaw-toxic-comment-classification-challenge/discussion/49893\n",
    "# https://github.com/keras-team/keras/issues/7551\n",
    "from keras.preprocessing.text import Tokenizer\n",
    "\n",
    "top_words = 5000\n",
    "\n",
    "tokenizer = Tokenizer(num_words=top_words)\n",
    "tokenizer.fit_on_texts(X_train)\n",
    "\n",
    "X_train = tokenizer.texts_to_sequences(X_train)\n",
    "X_test = tokenizer.texts_to_sequences(X_test)"
   ]
  },
  {
   "cell_type": "code",
   "execution_count": 11,
   "metadata": {
    "colab": {
     "base_uri": "https://localhost:8080/",
     "height": 70
    },
    "colab_type": "code",
    "id": "UqO3AekL-W5K",
    "outputId": "bfda3739-e3a1-452c-bcec-426ce38c5c0a"
   },
   "outputs": [
    {
     "name": "stdout",
     "output_type": "stream",
     "text": [
      "[825, 643, 2954, 1300, 16, 1073, 10, 374, 94, 123, 1256, 98, 1222, 388, 351, 276, 4779, 470, 49, 819, 92, 383]\n",
      "<class 'list'>\n",
      "22\n"
     ]
    }
   ],
   "source": [
    "print(X_train[1])\n",
    "print(type(X_train[1]))\n",
    "print(len(X_train[1]))"
   ]
  },
  {
   "cell_type": "code",
   "execution_count": 0,
   "metadata": {
    "colab": {},
    "colab_type": "code",
    "id": "xMviuLkbv2YT"
   },
   "outputs": [],
   "source": [
    "#from keras.utils.np_utils import to_categorical\n",
    "#y_train = to_categorical(y_train, )\n",
    "#y_test = to_categorical(y_test, 2)\n"
   ]
  },
  {
   "cell_type": "code",
   "execution_count": 57,
   "metadata": {
    "colab": {
     "base_uri": "https://localhost:8080/",
     "height": 35
    },
    "colab_type": "code",
    "id": "gAl8WuEw8GD3",
    "outputId": "434a8ddf-32cd-4e86-8195-8e6da3ecfbbb"
   },
   "outputs": [
    {
     "name": "stdout",
     "output_type": "stream",
     "text": [
      "After converting the output into a vector :  1\n"
     ]
    }
   ],
   "source": []
  },
  {
   "cell_type": "code",
   "execution_count": 9,
   "metadata": {
    "colab": {
     "base_uri": "https://localhost:8080/",
     "height": 791
    },
    "colab_type": "code",
    "id": "FWNBM67s8Pvt",
    "outputId": "c8b93419-0d5a-43a6-eabb-025d314c8bae"
   },
   "outputs": [
    {
     "name": "stdout",
     "output_type": "stream",
     "text": [
      "(70000, 600)\n",
      "[   0    0    0    0    0    0    0    0    0    0    0    0    0    0\n",
      "    0    0    0    0    0    0    0    0    0    0    0    0    0    0\n",
      "    0    0    0    0    0    0    0    0    0    0    0    0    0    0\n",
      "    0    0    0    0    0    0    0    0    0    0    0    0    0    0\n",
      "    0    0    0    0    0    0    0    0    0    0    0    0    0    0\n",
      "    0    0    0    0    0    0    0    0    0    0    0    0    0    0\n",
      "    0    0    0    0    0    0    0    0    0    0    0    0    0    0\n",
      "    0    0    0    0    0    0    0    0    0    0    0    0    0    0\n",
      "    0    0    0    0    0    0    0    0    0    0    0    0    0    0\n",
      "    0    0    0    0    0    0    0    0    0    0    0    0    0    0\n",
      "    0    0    0    0    0    0    0    0    0    0    0    0    0    0\n",
      "    0    0    0    0    0    0    0    0    0    0    0    0    0    0\n",
      "    0    0    0    0    0    0    0    0    0    0    0    0    0    0\n",
      "    0    0    0    0    0    0    0    0    0    0    0    0    0    0\n",
      "    0    0    0    0    0    0    0    0    0    0    0    0    0    0\n",
      "    0    0    0    0    0    0    0    0    0    0    0    0    0    0\n",
      "    0    0    0    0    0    0    0    0    0    0    0    0    0    0\n",
      "    0    0    0    0    0    0    0    0    0    0    0    0    0    0\n",
      "    0    0    0    0    0    0    0    0    0    0    0    0    0    0\n",
      "    0    0    0    0    0    0    0    0    0    0    0    0    0    0\n",
      "    0    0    0    0    0    0    0    0    0    0    0    0    0    0\n",
      "    0    0    0    0    0    0    0    0    0    0    0    0    0    0\n",
      "    0    0    0    0    0    0    0    0    0    0    0    0    0    0\n",
      "    0    0    0    0    0    0    0    0    0    0    0    0    0    0\n",
      "    0    0    0    0    0    0    0    0    0    0    0    0    0    0\n",
      "    0    0    0    0    0    0    0    0    0    0    0    0    0    0\n",
      "    0    0    0    0    0    0    0    0    0    0    0    0    0    0\n",
      "    0    0    0    0    0    0    0    0    0    0    0    0    0    0\n",
      "    0    0    0    0    0    0    0    0    0    0    0    0    0    0\n",
      "    0    0    0    0    0    0    0    0    0    0    0    0    0    0\n",
      "    0    0    0    0    0    0    0    0    0    0    0    0    0    0\n",
      "    0    0    0    0    0    0    0    0    0    0    0    0    0    0\n",
      "    0    0    0    0    0    0    0    0    0    0    0    0    0    0\n",
      "    0    0    0    0    0    0    0    0    0    0    0    0    0    0\n",
      "    0    0    0    0    0    0    0    0    0    0    0    0    0    0\n",
      "    0    0    0    0    0    0    0    0    0    0    0    0    0    0\n",
      "    0    0    0    0    0    0    0    0    0    0    0    0    0    0\n",
      "    0    0    0    0    0    0    0    0    0    0    0    0    0    0\n",
      "    0    0    0    0    0    0    0    0    0    0    0    0    0    0\n",
      "    0    0    0    0    0    0    0    0    0    0    0    0    0    0\n",
      "    0    0    0    0    0    0    0    0    0    0    0    0    0    0\n",
      "    0    0    0    0  825  643 2954 1300   16 1073   10  374   94  123\n",
      " 1256   98 1222  388  351  276 4779  470   49  819   92  383]\n"
     ]
    }
   ],
   "source": [
    "# truncate and/or pad input sequences\n",
    "max_review_length = 600\n",
    "X_train = sequence.pad_sequences(X_train, maxlen=max_review_length)\n",
    "X_test = sequence.pad_sequences(X_test, maxlen=max_review_length)\n",
    "\n",
    "print(X_train.shape)\n",
    "print(X_train[1])"
   ]
  },
  {
   "cell_type": "code",
   "execution_count": 0,
   "metadata": {
    "colab": {},
    "colab_type": "code",
    "id": "obOJPe3v82z3"
   },
   "outputs": [],
   "source": [
    "%matplotlib notebook\n",
    "import matplotlib.pyplot as plt\n",
    "import numpy as np\n",
    "import time\n",
    "# https://gist.github.com/greydanus/f6eee59eaf1d90fcb3b534a25362cea4\n",
    "# https://stackoverflow.com/a/14434334\n",
    "# this function is used to update the plots for each epoch and error\n",
    "def plt_dynamic(x, vy, ty, ax, colors=['b']):\n",
    "    ax.plot(x, vy, 'b', label=\"Validation Loss\")\n",
    "    ax.plot(x, ty, 'r', label=\"Train Loss\")\n",
    "    plt.legend()\n",
    "    plt.grid()\n",
    "    fig.canvas.draw()"
   ]
  },
  {
   "cell_type": "code",
   "execution_count": 11,
   "metadata": {
    "colab": {
     "base_uri": "https://localhost:8080/",
     "height": 530
    },
    "colab_type": "code",
    "id": "YBBqWYZh8c9W",
    "outputId": "c069a9c4-7d10-4b56-b819-6478ca92df65"
   },
   "outputs": [
    {
     "name": "stderr",
     "output_type": "stream",
     "text": [
      "WARNING: Logging before flag parsing goes to stderr.\n",
      "W0807 12:06:38.440216 139699082893184 deprecation_wrapper.py:119] From /usr/local/lib/python3.6/dist-packages/keras/backend/tensorflow_backend.py:74: The name tf.get_default_graph is deprecated. Please use tf.compat.v1.get_default_graph instead.\n",
      "\n",
      "W0807 12:06:38.455814 139699082893184 deprecation_wrapper.py:119] From /usr/local/lib/python3.6/dist-packages/keras/backend/tensorflow_backend.py:517: The name tf.placeholder is deprecated. Please use tf.compat.v1.placeholder instead.\n",
      "\n",
      "W0807 12:06:38.459019 139699082893184 deprecation_wrapper.py:119] From /usr/local/lib/python3.6/dist-packages/keras/backend/tensorflow_backend.py:4138: The name tf.random_uniform is deprecated. Please use tf.random.uniform instead.\n",
      "\n",
      "W0807 12:06:38.668070 139699082893184 deprecation_wrapper.py:119] From /usr/local/lib/python3.6/dist-packages/keras/optimizers.py:790: The name tf.train.Optimizer is deprecated. Please use tf.compat.v1.train.Optimizer instead.\n",
      "\n",
      "W0807 12:06:38.686245 139699082893184 deprecation_wrapper.py:119] From /usr/local/lib/python3.6/dist-packages/keras/backend/tensorflow_backend.py:3376: The name tf.log is deprecated. Please use tf.math.log instead.\n",
      "\n",
      "W0807 12:06:38.690692 139699082893184 deprecation.py:323] From /usr/local/lib/python3.6/dist-packages/tensorflow/python/ops/nn_impl.py:180: add_dispatch_support.<locals>.wrapper (from tensorflow.python.ops.array_ops) is deprecated and will be removed in a future version.\n",
      "Instructions for updating:\n",
      "Use tf.where in 2.0, which has the same broadcast rule as np.where\n"
     ]
    },
    {
     "name": "stdout",
     "output_type": "stream",
     "text": [
      "_________________________________________________________________\n",
      "Layer (type)                 Output Shape              Param #   \n",
      "=================================================================\n",
      "embedding_1 (Embedding)      (None, 600, 32)           160032    \n",
      "_________________________________________________________________\n",
      "lstm_1 (LSTM)                (None, 100)               53200     \n",
      "_________________________________________________________________\n",
      "dense_1 (Dense)              (None, 1)                 101       \n",
      "=================================================================\n",
      "Total params: 213,333\n",
      "Trainable params: 213,333\n",
      "Non-trainable params: 0\n",
      "_________________________________________________________________\n",
      "None\n"
     ]
    }
   ],
   "source": [
    "# Model 1\n",
    "# Embedding-LSTM(100)-Dense(1)\n",
    "\n",
    "embedding_vecor_length = 32\n",
    "model = Sequential()\n",
    "model.add(Embedding(top_words+1, embedding_vecor_length, input_length=max_review_length))\n",
    "model.add(LSTM(100))\n",
    "model.add(Dense(1, activation='sigmoid'))\n",
    "model.compile(loss='binary_crossentropy', optimizer='adam', metrics=['accuracy'])\n",
    "print(model.summary())\n",
    "#Refer: https://datascience.stackexchange.com/questions/10615/number-of-parameters-in-an-lstm-model"
   ]
  },
  {
   "cell_type": "code",
   "execution_count": 0,
   "metadata": {
    "colab": {},
    "colab_type": "code",
    "id": "z34ocP9gAhyB"
   },
   "outputs": [],
   "source": [
    "batchsize = 5000\n",
    "nb_epoch = 15"
   ]
  },
  {
   "cell_type": "code",
   "execution_count": 86,
   "metadata": {
    "colab": {
     "base_uri": "https://localhost:8080/",
     "height": 864
    },
    "colab_type": "code",
    "id": "Gp2nKrmF8maG",
    "outputId": "03f6ff1c-bd32-4e58-ba7e-5267dd15f9a5"
   },
   "outputs": [
    {
     "name": "stdout",
     "output_type": "stream",
     "text": [
      "Train on 70000 samples, validate on 30000 samples\n",
      "Epoch 1/15\n",
      "70000/70000 [==============================] - 40s 576us/step - loss: 0.5937 - acc: 0.8273 - val_loss: 0.4603 - val_acc: 0.8522\n",
      "Epoch 2/15\n",
      "70000/70000 [==============================] - 39s 556us/step - loss: 0.4251 - acc: 0.8519 - val_loss: 0.4107 - val_acc: 0.8522\n",
      "Epoch 3/15\n",
      "70000/70000 [==============================] - 39s 556us/step - loss: 0.4079 - acc: 0.8519 - val_loss: 0.3986 - val_acc: 0.8522\n",
      "Epoch 4/15\n",
      "70000/70000 [==============================] - 39s 556us/step - loss: 0.3824 - acc: 0.8519 - val_loss: 0.3566 - val_acc: 0.8522\n",
      "Epoch 5/15\n",
      "70000/70000 [==============================] - 39s 555us/step - loss: 0.3135 - acc: 0.8628 - val_loss: 0.2708 - val_acc: 0.8855\n",
      "Epoch 6/15\n",
      "70000/70000 [==============================] - 39s 557us/step - loss: 0.2323 - acc: 0.9054 - val_loss: 0.2247 - val_acc: 0.9143\n",
      "Epoch 7/15\n",
      "70000/70000 [==============================] - 39s 556us/step - loss: 0.2260 - acc: 0.9130 - val_loss: 0.2391 - val_acc: 0.9087\n",
      "Epoch 8/15\n",
      "70000/70000 [==============================] - 39s 557us/step - loss: 0.2068 - acc: 0.9181 - val_loss: 0.2206 - val_acc: 0.9116\n",
      "Epoch 9/15\n",
      "70000/70000 [==============================] - 39s 558us/step - loss: 0.1860 - acc: 0.9280 - val_loss: 0.2027 - val_acc: 0.9206\n",
      "Epoch 10/15\n",
      "70000/70000 [==============================] - 39s 557us/step - loss: 0.1714 - acc: 0.9333 - val_loss: 0.2000 - val_acc: 0.9226\n",
      "Epoch 11/15\n",
      "70000/70000 [==============================] - 39s 556us/step - loss: 0.1635 - acc: 0.9379 - val_loss: 0.1982 - val_acc: 0.9232\n",
      "Epoch 12/15\n",
      "70000/70000 [==============================] - 39s 556us/step - loss: 0.1573 - acc: 0.9409 - val_loss: 0.1990 - val_acc: 0.9247\n",
      "Epoch 13/15\n",
      "70000/70000 [==============================] - 39s 557us/step - loss: 0.1527 - acc: 0.9429 - val_loss: 0.1988 - val_acc: 0.9230\n",
      "Epoch 14/15\n",
      "70000/70000 [==============================] - 39s 556us/step - loss: 0.1492 - acc: 0.9447 - val_loss: 0.2021 - val_acc: 0.9245\n",
      "Epoch 15/15\n",
      "70000/70000 [==============================] - 39s 556us/step - loss: 0.1460 - acc: 0.9460 - val_loss: 0.2067 - val_acc: 0.9239\n",
      "Test score: 0.20672382185558477\n",
      "Test accuracy: 0.9238666666666666\n"
     ]
    },
    {
     "data": {
      "image/png": "[encoded data removed]",
      "text/plain": [
       "<Figure size 432x288 with 1 Axes>"
      ]
     },
     "metadata": {
      "tags": []
     },
     "output_type": "display_data"
    }
   ],
   "source": [
    "history = model.fit(X_train, y_train, epochs=nb_epoch, \n",
    "                   batch_size=batchsize, verbose=1, validation_data=(X_test, y_test))\n",
    "\n",
    "%matplotlib inline\n",
    "score = model.evaluate(X_test, y_test, verbose=0) \n",
    "print('Test score:', score[0]) \n",
    "print('Test accuracy:', score[1])\n",
    "\n",
    "fig,ax = plt.subplots(1,1)\n",
    "ax.set_xlabel('epoch') ; ax.set_ylabel('Binary Crossentropy Loss')\n",
    "\n",
    "# list of epoch numbers\n",
    "x = list(range(1,nb_epoch+1))\n",
    "\n",
    "\n",
    "vy = history.history['val_loss']\n",
    "ty = history.history['loss']\n",
    "plt_dynamic(x, vy, ty, ax)"
   ]
  },
  {
   "cell_type": "code",
   "execution_count": 15,
   "metadata": {
    "colab": {
     "base_uri": "https://localhost:8080/",
     "height": 547
    },
    "colab_type": "code",
    "id": "OU0QEa-TOAMD",
    "outputId": "5285c5d4-aba3-4800-f23a-46b4c3a15ea3"
   },
   "outputs": [
    {
     "name": "stderr",
     "output_type": "stream",
     "text": [
      "W0807 10:37:20.602443 139817305565056 deprecation_wrapper.py:119] From /usr/local/lib/python3.6/dist-packages/keras/backend/tensorflow_backend.py:4185: The name tf.truncated_normal is deprecated. Please use tf.random.truncated_normal instead.\n",
      "\n",
      "W0807 10:37:20.627110 139817305565056 deprecation.py:506] From /usr/local/lib/python3.6/dist-packages/keras/backend/tensorflow_backend.py:3445: calling dropout (from tensorflow.python.ops.nn_ops) with keep_prob is deprecated and will be removed in a future version.\n",
      "Instructions for updating:\n",
      "Please use `rate` instead of `keep_prob`. Rate should be set to `rate = 1 - keep_prob`.\n"
     ]
    },
    {
     "name": "stdout",
     "output_type": "stream",
     "text": [
      "_________________________________________________________________\n",
      "Layer (type)                 Output Shape              Param #   \n",
      "=================================================================\n",
      "embedding_2 (Embedding)      (None, 600, 64)           320064    \n",
      "_________________________________________________________________\n",
      "lstm_2 (LSTM)                (None, 600, 128)          98816     \n",
      "_________________________________________________________________\n",
      "dense_2 (Dense)              (None, 600, 512)          66048     \n",
      "_________________________________________________________________\n",
      "dropout_1 (Dropout)          (None, 600, 512)          0         \n",
      "_________________________________________________________________\n",
      "lstm_3 (LSTM)                (None, 256)               787456    \n",
      "_________________________________________________________________\n",
      "dense_3 (Dense)              (None, 256)               65792     \n",
      "_________________________________________________________________\n",
      "dropout_2 (Dropout)          (None, 256)               0         \n",
      "_________________________________________________________________\n",
      "dense_4 (Dense)              (None, 1)                 257       \n",
      "=================================================================\n",
      "Total params: 1,338,433\n",
      "Trainable params: 1,338,433\n",
      "Non-trainable params: 0\n",
      "_________________________________________________________________\n",
      "None\n"
     ]
    }
   ],
   "source": [
    "# Model 2\n",
    "# Embedding-LSTM(128)-Dense(512)+Dropout(0.25)-LSTM(64)-Dense(256)-Dense(1)\n",
    "\n",
    "from keras.layers import Dense, Dropout\n",
    "\n",
    "embedding_vecor_length = 64\n",
    "model = Sequential()\n",
    "\n",
    "model.add(Embedding(top_words+1, embedding_vecor_length, input_length=max_review_length))\n",
    "\n",
    "model.add(LSTM(128, return_sequences=True))\n",
    "\n",
    "model.add(Dense(512, activation = 'elu', kernel_initializer = 'lecun_normal'))\n",
    "model.add(Dropout(0.25))\n",
    "\n",
    "model.add(LSTM(256))\n",
    "\n",
    "model.add(Dense(256, activation = 'elu', kernel_initializer = 'lecun_normal'))\n",
    "model.add(Dropout(0.5))\n",
    "          \n",
    "\n",
    "model.add(Dense(1, activation='sigmoid'))\n",
    "\n",
    "\n",
    "model.compile(loss='binary_crossentropy', optimizer='adamax', metrics=['accuracy'])\n",
    "\n",
    "\n",
    "print(model.summary())"
   ]
  },
  {
   "cell_type": "code",
   "execution_count": 0,
   "metadata": {
    "colab": {},
    "colab_type": "code",
    "id": "33iQONswa25I"
   },
   "outputs": [],
   "source": [
    "nb_epoch = 15\n",
    "batchsize  = 1000"
   ]
  },
  {
   "cell_type": "code",
   "execution_count": 21,
   "metadata": {
    "colab": {
     "base_uri": "https://localhost:8080/",
     "height": 864
    },
    "colab_type": "code",
    "id": "gno2Bm5aCh-h",
    "outputId": "d522ad71-384b-43ae-f67a-20abd94323a3"
   },
   "outputs": [
    {
     "name": "stdout",
     "output_type": "stream",
     "text": [
      "Train on 70000 samples, validate on 30000 samples\n",
      "Epoch 1/15\n",
      "70000/70000 [==============================] - 266s 4ms/step - loss: 0.3381 - acc: 0.8706 - val_loss: 0.2102 - val_acc: 0.9146\n",
      "Epoch 2/15\n",
      "70000/70000 [==============================] - 265s 4ms/step - loss: 0.1941 - acc: 0.9246 - val_loss: 0.1996 - val_acc: 0.9205\n",
      "Epoch 3/15\n",
      "70000/70000 [==============================] - 265s 4ms/step - loss: 0.1716 - acc: 0.9340 - val_loss: 0.1934 - val_acc: 0.9251\n",
      "Epoch 4/15\n",
      "70000/70000 [==============================] - 265s 4ms/step - loss: 0.1595 - acc: 0.9390 - val_loss: 0.1946 - val_acc: 0.9257\n",
      "Epoch 5/15\n",
      "70000/70000 [==============================] - 265s 4ms/step - loss: 0.1505 - acc: 0.9431 - val_loss: 0.1996 - val_acc: 0.9239\n",
      "Epoch 6/15\n",
      "70000/70000 [==============================] - 265s 4ms/step - loss: 0.1418 - acc: 0.9474 - val_loss: 0.2054 - val_acc: 0.9243\n",
      "Epoch 7/15\n",
      "70000/70000 [==============================] - 265s 4ms/step - loss: 0.1313 - acc: 0.9527 - val_loss: 0.2085 - val_acc: 0.9221\n",
      "Epoch 8/15\n",
      "70000/70000 [==============================] - 265s 4ms/step - loss: 0.1272 - acc: 0.9541 - val_loss: 0.2209 - val_acc: 0.9219\n",
      "Epoch 9/15\n",
      "70000/70000 [==============================] - 265s 4ms/step - loss: 0.1171 - acc: 0.9588 - val_loss: 0.2288 - val_acc: 0.9198\n",
      "Epoch 10/15\n",
      "70000/70000 [==============================] - 265s 4ms/step - loss: 0.1094 - acc: 0.9631 - val_loss: 0.2521 - val_acc: 0.9194\n",
      "Epoch 11/15\n",
      "70000/70000 [==============================] - 265s 4ms/step - loss: 0.1056 - acc: 0.9634 - val_loss: 0.2545 - val_acc: 0.9199\n",
      "Epoch 12/15\n",
      "70000/70000 [==============================] - 266s 4ms/step - loss: 0.0950 - acc: 0.9681 - val_loss: 0.2640 - val_acc: 0.9187\n",
      "Epoch 13/15\n",
      "70000/70000 [==============================] - 266s 4ms/step - loss: 0.0888 - acc: 0.9718 - val_loss: 0.2796 - val_acc: 0.9162\n",
      "Epoch 14/15\n",
      "70000/70000 [==============================] - 266s 4ms/step - loss: 0.0802 - acc: 0.9757 - val_loss: 0.2962 - val_acc: 0.9149\n",
      "Epoch 15/15\n",
      "70000/70000 [==============================] - 266s 4ms/step - loss: 0.0753 - acc: 0.9770 - val_loss: 0.3119 - val_acc: 0.9139\n",
      "Test score: 0.31187168813596167\n",
      "Test accuracy: 0.9139\n"
     ]
    },
    {
     "data": {
      "image/png": "[encoded data removed]",
      "text/plain": [
       "<Figure size 432x288 with 1 Axes>"
      ]
     },
     "metadata": {
      "tags": []
     },
     "output_type": "display_data"
    }
   ],
   "source": [
    "history = model.fit(X_train, y_train, epochs=nb_epoch, \n",
    "                   batch_size=batchsize, verbose=1, validation_data=(X_test, y_test))\n",
    "\n",
    "%matplotlib inline\n",
    "score = model.evaluate(X_test, y_test, verbose=0) \n",
    "print('Test score:', score[0]) \n",
    "print('Test accuracy:', score[1])\n",
    "\n",
    "fig,ax = plt.subplots(1,1)\n",
    "ax.set_xlabel('epoch') ; ax.set_ylabel('Binary Crossentropy Loss')\n",
    "\n",
    "# list of epoch numbers\n",
    "x = list(range(1,nb_epoch+1))\n",
    "\n",
    "\n",
    "vy = history.history['val_loss']\n",
    "ty = history.history['loss']\n",
    "plt_dynamic(x, vy, ty, ax)"
   ]
  },
  {
   "cell_type": "code",
   "execution_count": 0,
   "metadata": {
    "colab": {},
    "colab_type": "code",
    "id": "-hA-inFniUCM"
   },
   "outputs": [],
   "source": [
    "nb_epoch = 15\n",
    "batchsize  = 1500"
   ]
  },
  {
   "cell_type": "code",
   "execution_count": 13,
   "metadata": {
    "colab": {
     "base_uri": "https://localhost:8080/",
     "height": 864
    },
    "colab_type": "code",
    "id": "wF78JoSuCrwA",
    "outputId": "4fc19f91-9d26-4048-e4ad-3ad82aa51280"
   },
   "outputs": [
    {
     "name": "stderr",
     "output_type": "stream",
     "text": [
      "W0807 12:06:53.837769 139699082893184 deprecation_wrapper.py:119] From /usr/local/lib/python3.6/dist-packages/keras/backend/tensorflow_backend.py:133: The name tf.placeholder_with_default is deprecated. Please use tf.compat.v1.placeholder_with_default instead.\n",
      "\n",
      "W0807 12:06:53.844717 139699082893184 deprecation.py:506] From /usr/local/lib/python3.6/dist-packages/keras/backend/tensorflow_backend.py:3445: calling dropout (from tensorflow.python.ops.nn_ops) with keep_prob is deprecated and will be removed in a future version.\n",
      "Instructions for updating:\n",
      "Please use `rate` instead of `keep_prob`. Rate should be set to `rate = 1 - keep_prob`.\n"
     ]
    },
    {
     "name": "stdout",
     "output_type": "stream",
     "text": [
      "_________________________________________________________________\n",
      "Layer (type)                 Output Shape              Param #   \n",
      "=================================================================\n",
      "embedding_2 (Embedding)      (None, 600, 64)           320064    \n",
      "_________________________________________________________________\n",
      "lstm_2 (LSTM)                (None, 600, 100)          66000     \n",
      "_________________________________________________________________\n",
      "dense_2 (Dense)              (None, 600, 128)          12928     \n",
      "_________________________________________________________________\n",
      "dropout_1 (Dropout)          (None, 600, 128)          0         \n",
      "_________________________________________________________________\n",
      "batch_normalization_1 (Batch (None, 600, 128)          512       \n",
      "_________________________________________________________________\n",
      "lstm_3 (LSTM)                (None, 600, 100)          91600     \n",
      "_________________________________________________________________\n",
      "dense_3 (Dense)              (None, 600, 64)           6464      \n",
      "_________________________________________________________________\n",
      "dropout_2 (Dropout)          (None, 600, 64)           0         \n",
      "_________________________________________________________________\n",
      "batch_normalization_2 (Batch (None, 600, 64)           256       \n",
      "_________________________________________________________________\n",
      "lstm_4 (LSTM)                (None, 600, 100)          66000     \n",
      "_________________________________________________________________\n",
      "dense_4 (Dense)              (None, 600, 32)           3232      \n",
      "_________________________________________________________________\n",
      "dropout_3 (Dropout)          (None, 600, 32)           0         \n",
      "_________________________________________________________________\n",
      "batch_normalization_3 (Batch (None, 600, 32)           128       \n",
      "_________________________________________________________________\n",
      "lstm_5 (LSTM)                (None, 64)                24832     \n",
      "_________________________________________________________________\n",
      "dense_5 (Dense)              (None, 16)                1040      \n",
      "_________________________________________________________________\n",
      "batch_normalization_4 (Batch (None, 16)                64        \n",
      "_________________________________________________________________\n",
      "dense_6 (Dense)              (None, 1)                 17        \n",
      "=================================================================\n",
      "Total params: 593,137\n",
      "Trainable params: 592,657\n",
      "Non-trainable params: 480\n",
      "_________________________________________________________________\n",
      "None\n"
     ]
    }
   ],
   "source": [
    "# Model 3\n",
    "# Embedding-LSTM(100)-Dense(128)+Dropout(0.25)+BatchNorm-LSTM(100)-Dense(64)+Dropout(0.5)+BatchNorm-LSTM(100)-Dense(32)-Dense(16)+BatchNorm-LSTM(64)-Dense(16)+BatchNorm-Dense(1)\n",
    "\n",
    "from keras.layers.normalization import BatchNormalization\n",
    "from keras.layers import Dense, Dropout\n",
    "\n",
    "embedding_vecor_length = 64\n",
    "model = Sequential()\n",
    "\n",
    "model.add(Embedding(top_words+1, embedding_vecor_length, input_length=max_review_length))\n",
    "\n",
    "model.add(LSTM(100, return_sequences=True))\n",
    "\n",
    "model.add(Dense(128,  kernel_initializer = 'he_uniform', activation = 'selu'))\n",
    "model.add(Dropout(0.25))\n",
    "model.add(BatchNormalization())\n",
    "\n",
    "model.add(LSTM(100, return_sequences=True))\n",
    "\n",
    "model.add(Dense(64, activation = 'selu'))\n",
    "model.add(Dropout(0.5))\n",
    "model.add(BatchNormalization())\n",
    "\n",
    "model.add(LSTM(100, return_sequences=True))\n",
    "\n",
    "model.add(Dense(32, activation = 'selu'))\n",
    "model.add(Dropout(0.5))\n",
    "model.add(BatchNormalization())\n",
    "\n",
    "\n",
    "model.add(LSTM(64))\n",
    "model.add(Dense(16, activation = 'selu'))\n",
    "model.add(BatchNormalization())\n",
    "\n",
    "\n",
    "model.add(Dense(1, activation='sigmoid'))\n",
    "\n",
    "\n",
    "model.compile(loss='binary_crossentropy', optimizer='nadam', metrics=['accuracy'])\n",
    "\n",
    "\n",
    "print(model.summary())\n",
    "\n",
    "\n",
    "\n"
   ]
  },
  {
   "cell_type": "code",
   "execution_count": 14,
   "metadata": {
    "colab": {
     "base_uri": "https://localhost:8080/",
     "height": 864
    },
    "colab_type": "code",
    "id": "qEnH3-yN9K4K",
    "outputId": "3e2ca134-b395-41f6-b480-e28c3720204d"
   },
   "outputs": [
    {
     "name": "stdout",
     "output_type": "stream",
     "text": [
      "Train on 70000 samples, validate on 30000 samples\n",
      "Epoch 1/15\n",
      "70000/70000 [==============================] - 306s 4ms/step - loss: 0.5632 - acc: 0.7437 - val_loss: 0.3734 - val_acc: 0.8681\n",
      "Epoch 2/15\n",
      "70000/70000 [==============================] - 289s 4ms/step - loss: 0.3421 - acc: 0.9046 - val_loss: 0.3966 - val_acc: 0.8815\n",
      "Epoch 3/15\n",
      "70000/70000 [==============================] - 285s 4ms/step - loss: 0.2268 - acc: 0.9309 - val_loss: 0.7106 - val_acc: 0.8174\n",
      "Epoch 4/15\n",
      "70000/70000 [==============================] - 286s 4ms/step - loss: 0.1917 - acc: 0.9356 - val_loss: 0.5443 - val_acc: 0.8875\n",
      "Epoch 5/15\n",
      "70000/70000 [==============================] - 286s 4ms/step - loss: 0.1643 - acc: 0.9438 - val_loss: 0.3651 - val_acc: 0.8948\n",
      "Epoch 6/15\n",
      "70000/70000 [==============================] - 286s 4ms/step - loss: 0.1395 - acc: 0.9511 - val_loss: 0.3441 - val_acc: 0.9228\n",
      "Epoch 7/15\n",
      "70000/70000 [==============================] - 286s 4ms/step - loss: 0.1219 - acc: 0.9582 - val_loss: 4.0275 - val_acc: 0.4905\n",
      "Epoch 8/15\n",
      "70000/70000 [==============================] - 286s 4ms/step - loss: 0.1117 - acc: 0.9621 - val_loss: 0.3748 - val_acc: 0.8790\n",
      "Epoch 9/15\n",
      "70000/70000 [==============================] - 285s 4ms/step - loss: 0.0963 - acc: 0.9681 - val_loss: 0.4368 - val_acc: 0.9079\n",
      "Epoch 10/15\n",
      "70000/70000 [==============================] - 286s 4ms/step - loss: 0.0803 - acc: 0.9738 - val_loss: 0.3954 - val_acc: 0.9197\n",
      "Epoch 11/15\n",
      "70000/70000 [==============================] - 285s 4ms/step - loss: 0.0819 - acc: 0.9737 - val_loss: 0.3864 - val_acc: 0.9108\n",
      "Epoch 12/15\n",
      "70000/70000 [==============================] - 286s 4ms/step - loss: 0.0624 - acc: 0.9804 - val_loss: 0.4252 - val_acc: 0.9211\n",
      "Epoch 13/15\n",
      "70000/70000 [==============================] - 285s 4ms/step - loss: 0.0588 - acc: 0.9824 - val_loss: 0.5352 - val_acc: 0.9080\n",
      "Epoch 14/15\n",
      "70000/70000 [==============================] - 285s 4ms/step - loss: 0.0470 - acc: 0.9857 - val_loss: 0.8007 - val_acc: 0.8661\n",
      "Epoch 15/15\n",
      "70000/70000 [==============================] - 286s 4ms/step - loss: 0.0469 - acc: 0.9856 - val_loss: 0.4116 - val_acc: 0.9095\n",
      "Test score: 0.4115698112430672\n",
      "Test accuracy: 0.9095\n"
     ]
    },
    {
     "data": {
      "image/png": "[encoded data removed]",
      "text/plain": [
       "<Figure size 432x288 with 1 Axes>"
      ]
     },
     "metadata": {
      "tags": []
     },
     "output_type": "display_data"
    }
   ],
   "source": [
    "history = model.fit(X_train, y_train, epochs=nb_epoch, \n",
    "                   batch_size=batchsize, verbose=1, validation_data=(X_test, y_test))\n",
    "\n",
    "%matplotlib inline\n",
    "score = model.evaluate(X_test, y_test, verbose=0) \n",
    "print('Test score:', score[0]) \n",
    "print('Test accuracy:', score[1])\n",
    "\n",
    "fig,ax = plt.subplots(1,1)\n",
    "ax.set_xlabel('epoch') ; ax.set_ylabel('Binary Crossentropy Loss')\n",
    "\n",
    "# list of epoch numbers\n",
    "x = list(range(1,nb_epoch+1))\n",
    "\n",
    "\n",
    "vy = history.history['val_loss']\n",
    "ty = history.history['loss']\n",
    "plt_dynamic(x, vy, ty, ax)"
   ]
  },
  {
   "cell_type": "markdown",
   "metadata": {
    "colab_type": "text",
    "id": "yvng3f55LuKq"
   },
   "source": [
    "# Summary\n",
    "1. Implemented LSTM on Amazon Fine Food Reviews to determine whether a given summary is positive or negative.\n",
    "2. Experiement with 3 models; each had different architecture, weight initializers, activation function, number of hidden layers, number of LSTM layers, optimization function etc\n",
    "3. Also made use of different dropout values and batchnormalization of the above architectures.\n",
    "4. Plotted error plot of epoch against training and validataion set. \n",
    "5. The number of epochs considered: 15.\n",
    "\n",
    "### Model 1\n",
    "* Embedding-LSTM(100)-Dense(1)\n",
    "* batchsize = 5000\n",
    "\n",
    "### Model 2\n",
    "* Embedding-LSTM(128)-Dense(512)+Dropout(0.25)-LSTM(64)-Dense(256)-Dense(1)\n",
    "* batchsize = 1000\n",
    "\n",
    "### Model 3\n",
    "*  Embedding-LSTM(100)-Dense(128)+Dropout(0.25)+BatchNorm-LSTM(100)-Dense(64)+Dropout(0.5)+BatchNorm-LSTM(100)-Dense(32)-Dense(16)+BatchNorm-LSTM(64)-Dense(16)+BatchNorm-Dense(1)\n",
    "* batchsize = 1500\n",
    "\n"
   ]
  },
  {
   "cell_type": "code",
   "execution_count": 16,
   "metadata": {
    "colab": {
     "base_uri": "https://localhost:8080/",
     "height": 140
    },
    "colab_type": "code",
    "id": "LgwpfDMCqNPm",
    "outputId": "a6f19a36-08f7-4715-82bb-95576f2b4a9b"
   },
   "outputs": [
    {
     "name": "stdout",
     "output_type": "stream",
     "text": [
      "+---------+---------------------+--------------+--------------------+---------------------+---------------+\n",
      "|  Model  | Activation Function | Optimization | Weight Initializer |      Test Score     | Test Accuracy |\n",
      "+---------+---------------------+--------------+--------------------+---------------------+---------------+\n",
      "| Model 1 |         relu        |     adam     |   glurot_uniform   | 0.20672382185558477 |     0.9238    |\n",
      "| Model 2 |         elu         |    adamax    |    lecun_normal    | 0.31187168813596167 |     0.9139    |\n",
      "| Model 3 |         selu        |    nadam     |     he_uniform     |  0.4115698112430672 |     0.9095    |\n",
      "+---------+---------------------+--------------+--------------------+---------------------+---------------+\n"
     ]
    }
   ],
   "source": [
    "from prettytable import PrettyTable\n",
    "    \n",
    "x = PrettyTable()\n",
    "\n",
    "x.field_names = [\"Model\", \"Activation Function\", \"Optimization\", \"Weight Initializer\", \"Test Score\", \"Test Accuracy\"]\n",
    "\n",
    "x.add_row([\"Model 1\", 'relu', 'adam', 'glurot_uniform',  0.20672382185558477, 0.9238])\n",
    "x.add_row([\"Model 2\", 'elu','adamax', 'lecun_normal', 0.31187168813596167,  0.9139])\n",
    "x.add_row([\"Model 3\", 'selu', 'nadam', 'he_uniform', 0.4115698112430672, 0.9095])\n",
    "\n",
    "print(x)"
   ]
  }
 ],
 "metadata": {
  "accelerator": "GPU",
  "colab": {
   "collapsed_sections": [],
   "machine_shape": "hm",
   "name": "LSTM on Amazon Fine Food Reviews.ipynb",
   "provenance": [],
   "version": "0.3.2"
  },
  "kernelspec": {
   "display_name": "Python 3",
   "language": "python",
   "name": "python3"
  },
  "language_info": {
   "codemirror_mode": {
    "name": "ipython",
    "version": 3
   },
   "file_extension": ".py",
   "mimetype": "text/x-python",
   "name": "python",
   "nbconvert_exporter": "python",
   "pygments_lexer": "ipython3",
   "version": "3.7.3"
  }
 },
 "nbformat": 4,
 "nbformat_minor": 1
}
