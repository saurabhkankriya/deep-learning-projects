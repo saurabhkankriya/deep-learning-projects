{
  "nbformat": 4,
  "nbformat_minor": 0,
  "metadata": {
    "accelerator": "GPU",
    "colab": {
      "name": "CNN_MNIST_resub2.ipynb",
      "version": "0.3.2",
      "provenance": [],
      "collapsed_sections": []
    },
    "kernelspec": {
      "display_name": "Python 3",
      "language": "python",
      "name": "python3"
    },
    "language_info": {
      "codemirror_mode": {
        "name": "ipython",
        "version": 3
      },
      "file_extension": ".py",
      "mimetype": "text/x-python",
      "name": "python",
      "nbconvert_exporter": "python",
      "pygments_lexer": "ipython3",
      "version": "3.7.3"
    }
  },
  "cells": [
    {
      "cell_type": "markdown",
      "metadata": {
        "colab_type": "text",
        "id": "Q2t0MeQSjQmd"
      },
      "source": [
        "**Objective:** To build  different CNN architectures on the MNIST dataset by experimenting with different kernel sizes, Conv2D layers, BatchNorm, Dropout etc."
      ]
    },
    {
      "cell_type": "markdown",
      "metadata": {
        "colab_type": "text",
        "id": "ke8Ebf-Pjpkp"
      },
      "source": [
        "**Base Model**"
      ]
    },
    {
      "cell_type": "code",
      "metadata": {
        "colab_type": "code",
        "id": "H9EU0e8yzFOm",
        "outputId": "2e6eeab8-b2a2-485e-f43c-53a484e16047",
        "colab": {
          "base_uri": "https://localhost:8080/",
          "height": 987
        }
      },
      "source": [
        "# Credits: https://github.com/keras-team/keras/blob/master/examples/mnist_cnn.py\n",
        "\n",
        "\n",
        "from __future__ import print_function\n",
        "import keras\n",
        "from keras.datasets import mnist\n",
        "from keras.models import Sequential\n",
        "from keras.layers import Dense, Dropout, Flatten\n",
        "from keras.layers import Conv2D, MaxPooling2D\n",
        "from keras import backend as K\n",
        "\n",
        "batch_size = 128\n",
        "num_classes = 10\n",
        "epochs = 12\n",
        "\n",
        "# input image dimensions\n",
        "img_rows, img_cols = 28, 28\n",
        "\n",
        "# the data, split between train and test sets\n",
        "(x_train, y_train), (x_test, y_test) = mnist.load_data()\n",
        "\n",
        "if K.image_data_format() == 'channels_first':\n",
        "    x_train = x_train.reshape(x_train.shape[0], 1, img_rows, img_cols)\n",
        "    x_test = x_test.reshape(x_test.shape[0], 1, img_rows, img_cols)\n",
        "    input_shape = (1, img_rows, img_cols)\n",
        "else:\n",
        "    x_train = x_train.reshape(x_train.shape[0], img_rows, img_cols, 1)\n",
        "    x_test = x_test.reshape(x_test.shape[0], img_rows, img_cols, 1)\n",
        "    input_shape = (img_rows, img_cols, 1)\n",
        "\n",
        "x_train = x_train.astype('float32')\n",
        "x_test = x_test.astype('float32')\n",
        "x_train /= 255\n",
        "x_test /= 255\n",
        "print('x_train shape:', x_train.shape)\n",
        "print(x_train.shape[0], 'train samples')\n",
        "print(x_test.shape[0], 'test samples')\n",
        "\n",
        "# convert class vectors to binary class matrices\n",
        "y_train = keras.utils.to_categorical(y_train, num_classes)\n",
        "y_test = keras.utils.to_categorical(y_test, num_classes)\n",
        "\n",
        "model = Sequential()\n",
        "model.add(Conv2D(32, kernel_size=(3, 3),\n",
        "                 activation='relu',\n",
        "                 input_shape=input_shape))\n",
        "model.add(Conv2D(64, (3, 3), activation='relu'))\n",
        "model.add(MaxPooling2D(pool_size=(2, 2)))\n",
        "model.add(Dropout(0.25))\n",
        "model.add(Flatten())\n",
        "model.add(Dense(128, activation='relu'))\n",
        "model.add(Dropout(0.5))\n",
        "model.add(Dense(num_classes, activation='softmax'))\n",
        "\n",
        "model.compile(loss=keras.losses.categorical_crossentropy,\n",
        "              optimizer=keras.optimizers.Adadelta(),\n",
        "              metrics=['accuracy'])\n",
        "\n",
        "model.fit(x_train, y_train,\n",
        "          batch_size=batch_size,\n",
        "          epochs=epochs,\n",
        "          verbose=1,\n",
        "          validation_data=(x_test, y_test))\n",
        "score = model.evaluate(x_test, y_test, verbose=0)\n",
        "print('Test loss:', score[0])\n",
        "print('Test accuracy:', score[1])"
      ],
      "execution_count": 1,
      "outputs": [
        {
          "output_type": "stream",
          "text": [
            "Using TensorFlow backend.\n"
          ],
          "name": "stderr"
        },
        {
          "output_type": "stream",
          "text": [
            "Downloading data from https://s3.amazonaws.com/img-datasets/mnist.npz\n",
            "11493376/11490434 [==============================] - 0s 0us/step\n"
          ],
          "name": "stdout"
        },
        {
          "output_type": "stream",
          "text": [
            "WARNING: Logging before flag parsing goes to stderr.\n",
            "W0805 12:54:42.673864 140350176786304 deprecation_wrapper.py:119] From /usr/local/lib/python3.6/dist-packages/keras/backend/tensorflow_backend.py:74: The name tf.get_default_graph is deprecated. Please use tf.compat.v1.get_default_graph instead.\n",
            "\n",
            "W0805 12:54:42.709701 140350176786304 deprecation_wrapper.py:119] From /usr/local/lib/python3.6/dist-packages/keras/backend/tensorflow_backend.py:517: The name tf.placeholder is deprecated. Please use tf.compat.v1.placeholder instead.\n",
            "\n",
            "W0805 12:54:42.716486 140350176786304 deprecation_wrapper.py:119] From /usr/local/lib/python3.6/dist-packages/keras/backend/tensorflow_backend.py:4138: The name tf.random_uniform is deprecated. Please use tf.random.uniform instead.\n",
            "\n",
            "W0805 12:54:42.758455 140350176786304 deprecation_wrapper.py:119] From /usr/local/lib/python3.6/dist-packages/keras/backend/tensorflow_backend.py:3976: The name tf.nn.max_pool is deprecated. Please use tf.nn.max_pool2d instead.\n",
            "\n",
            "W0805 12:54:42.761035 140350176786304 deprecation_wrapper.py:119] From /usr/local/lib/python3.6/dist-packages/keras/backend/tensorflow_backend.py:133: The name tf.placeholder_with_default is deprecated. Please use tf.compat.v1.placeholder_with_default instead.\n",
            "\n",
            "W0805 12:54:42.772067 140350176786304 deprecation.py:506] From /usr/local/lib/python3.6/dist-packages/keras/backend/tensorflow_backend.py:3445: calling dropout (from tensorflow.python.ops.nn_ops) with keep_prob is deprecated and will be removed in a future version.\n",
            "Instructions for updating:\n",
            "Please use `rate` instead of `keep_prob`. Rate should be set to `rate = 1 - keep_prob`.\n",
            "W0805 12:54:42.845583 140350176786304 deprecation_wrapper.py:119] From /usr/local/lib/python3.6/dist-packages/keras/optimizers.py:790: The name tf.train.Optimizer is deprecated. Please use tf.compat.v1.train.Optimizer instead.\n",
            "\n",
            "W0805 12:54:42.855036 140350176786304 deprecation_wrapper.py:119] From /usr/local/lib/python3.6/dist-packages/keras/backend/tensorflow_backend.py:3295: The name tf.log is deprecated. Please use tf.math.log instead.\n",
            "\n"
          ],
          "name": "stderr"
        },
        {
          "output_type": "stream",
          "text": [
            "x_train shape: (60000, 28, 28, 1)\n",
            "60000 train samples\n",
            "10000 test samples\n"
          ],
          "name": "stdout"
        },
        {
          "output_type": "stream",
          "text": [
            "W0805 12:54:42.973082 140350176786304 deprecation.py:323] From /usr/local/lib/python3.6/dist-packages/tensorflow/python/ops/math_grad.py:1250: add_dispatch_support.<locals>.wrapper (from tensorflow.python.ops.array_ops) is deprecated and will be removed in a future version.\n",
            "Instructions for updating:\n",
            "Use tf.where in 2.0, which has the same broadcast rule as np.where\n"
          ],
          "name": "stderr"
        },
        {
          "output_type": "stream",
          "text": [
            "Train on 60000 samples, validate on 10000 samples\n",
            "Epoch 1/12\n",
            "60000/60000 [==============================] - 12s 195us/step - loss: 0.2607 - acc: 0.9206 - val_loss: 0.0560 - val_acc: 0.9823\n",
            "Epoch 2/12\n",
            "60000/60000 [==============================] - 5s 76us/step - loss: 0.0883 - acc: 0.9738 - val_loss: 0.0451 - val_acc: 0.9856\n",
            "Epoch 3/12\n",
            "60000/60000 [==============================] - 5s 76us/step - loss: 0.0658 - acc: 0.9808 - val_loss: 0.0346 - val_acc: 0.9875\n",
            "Epoch 4/12\n",
            "60000/60000 [==============================] - 5s 76us/step - loss: 0.0532 - acc: 0.9838 - val_loss: 0.0330 - val_acc: 0.9883\n",
            "Epoch 5/12\n",
            "60000/60000 [==============================] - 5s 76us/step - loss: 0.0458 - acc: 0.9863 - val_loss: 0.0296 - val_acc: 0.9894\n",
            "Epoch 6/12\n",
            "60000/60000 [==============================] - 5s 76us/step - loss: 0.0416 - acc: 0.9874 - val_loss: 0.0278 - val_acc: 0.9908\n",
            "Epoch 7/12\n",
            "60000/60000 [==============================] - 5s 76us/step - loss: 0.0355 - acc: 0.9890 - val_loss: 0.0269 - val_acc: 0.9910\n",
            "Epoch 8/12\n",
            "60000/60000 [==============================] - 5s 76us/step - loss: 0.0346 - acc: 0.9899 - val_loss: 0.0279 - val_acc: 0.9902\n",
            "Epoch 9/12\n",
            "60000/60000 [==============================] - 5s 76us/step - loss: 0.0308 - acc: 0.9903 - val_loss: 0.0279 - val_acc: 0.9907\n",
            "Epoch 10/12\n",
            "60000/60000 [==============================] - 5s 76us/step - loss: 0.0297 - acc: 0.9907 - val_loss: 0.0275 - val_acc: 0.9915\n",
            "Epoch 11/12\n",
            "60000/60000 [==============================] - 5s 76us/step - loss: 0.0276 - acc: 0.9913 - val_loss: 0.0307 - val_acc: 0.9892\n",
            "Epoch 12/12\n",
            "60000/60000 [==============================] - 5s 77us/step - loss: 0.0264 - acc: 0.9925 - val_loss: 0.0304 - val_acc: 0.9903\n",
            "Test loss: 0.03036571712041823\n",
            "Test accuracy: 0.9903\n"
          ],
          "name": "stdout"
        }
      ]
    },
    {
      "cell_type": "code",
      "metadata": {
        "id": "P3eYED8wiYIk",
        "colab_type": "code",
        "colab": {}
      },
      "source": [
        "%matplotlib notebook\n",
        "import matplotlib.pyplot as plt\n",
        "import numpy as np\n",
        "import time\n",
        "# https://gist.github.com/greydanus/f6eee59eaf1d90fcb3b534a25362cea4\n",
        "# https://stackoverflow.com/a/14434334\n",
        "# this function is used to update the plots for each epoch and error\n",
        "def plt_dynamic(x, vy, ty, ax, colors=['b']):\n",
        "    ax.plot(x, vy, 'b', label=\"Validation Loss\")\n",
        "    ax.plot(x, ty, 'r', label=\"Train Loss\")\n",
        "    plt.legend()\n",
        "    plt.grid()\n",
        "    fig.canvas.draw()"
      ],
      "execution_count": 0,
      "outputs": []
    },
    {
      "cell_type": "code",
      "metadata": {
        "colab_type": "code",
        "id": "SKwR_WDo1rNJ",
        "outputId": "ff1a1bc3-1b10-4ecc-a27f-b1aed057d2b4",
        "colab": {
          "base_uri": "https://localhost:8080/",
          "height": 492
        }
      },
      "source": [
        "# Model 1\n",
        "\n",
        "# kernel [2*2]\n",
        "# strides= (1, 1)\n",
        "# 3 Conv2D layers followed by 2 MaxPool layers of size (2,2)\n",
        "# 3 hidden layers\n",
        "\n",
        "\n",
        "model = Sequential()\n",
        "\n",
        "model.add(Conv2D(16, kernel_size=(2, 2), strides=(1, 1), activation='relu', input_shape=input_shape))\n",
        "\n",
        "model.add(Conv2D(32, (2, 2), activation='relu'))\n",
        "model.add(MaxPooling2D(pool_size=(2, 2)))\n",
        "model.add(Dropout(0.25))\n",
        "\n",
        "model.add(Conv2D(32, (2, 2), activation='relu'))\n",
        "model.add(MaxPooling2D(pool_size=(2, 2)))\n",
        "model.add(Dropout(0.25))\n",
        "model.add(Flatten())\n",
        "\n",
        "model.add(Dense(64, activation='relu'))\n",
        "model.add(Dropout(0.25))\n",
        "\n",
        "model.add(Dense(128, activation='relu'))\n",
        "model.add(Dropout(0.35))\n",
        "\n",
        "model.add(Dense(num_classes, activation='softmax'))\n",
        "\n",
        "\n",
        "\n",
        "model.compile(loss=keras.losses.categorical_crossentropy, optimizer=keras.optimizers.Adadelta(), metrics=['accuracy'])\n",
        "\n",
        "\n",
        "history = model.fit(x_train, y_train,\n",
        "          batch_size=batch_size,\n",
        "          epochs=epochs,\n",
        "          verbose=1,\n",
        "          validation_data=(x_test, y_test))\n",
        "score = model.evaluate(x_test, y_test, verbose=0)\n",
        "\n",
        "\n",
        "print('Test loss:', score[0])\n",
        "print('Test accuracy:', score[1])"
      ],
      "execution_count": 0,
      "outputs": [
        {
          "output_type": "stream",
          "text": [
            "Train on 60000 samples, validate on 10000 samples\n",
            "Epoch 1/12\n",
            "60000/60000 [==============================] - 4s 71us/step - loss: 0.5173 - acc: 0.8329 - val_loss: 0.0833 - val_acc: 0.9750\n",
            "Epoch 2/12\n",
            "60000/60000 [==============================] - 4s 59us/step - loss: 0.1582 - acc: 0.9534 - val_loss: 0.0551 - val_acc: 0.9829\n",
            "Epoch 3/12\n",
            "60000/60000 [==============================] - 4s 59us/step - loss: 0.1194 - acc: 0.9653 - val_loss: 0.0431 - val_acc: 0.9869\n",
            "Epoch 4/12\n",
            "60000/60000 [==============================] - 4s 59us/step - loss: 0.1028 - acc: 0.9701 - val_loss: 0.0448 - val_acc: 0.9866\n",
            "Epoch 5/12\n",
            "60000/60000 [==============================] - 4s 59us/step - loss: 0.0909 - acc: 0.9737 - val_loss: 0.0395 - val_acc: 0.9884\n",
            "Epoch 6/12\n",
            "60000/60000 [==============================] - 4s 59us/step - loss: 0.0829 - acc: 0.9759 - val_loss: 0.0330 - val_acc: 0.9905\n",
            "Epoch 7/12\n",
            "60000/60000 [==============================] - 4s 59us/step - loss: 0.0766 - acc: 0.9773 - val_loss: 0.0333 - val_acc: 0.9903\n",
            "Epoch 8/12\n",
            "60000/60000 [==============================] - 4s 59us/step - loss: 0.0714 - acc: 0.9794 - val_loss: 0.0322 - val_acc: 0.9904\n",
            "Epoch 9/12\n",
            "60000/60000 [==============================] - 4s 60us/step - loss: 0.0677 - acc: 0.9814 - val_loss: 0.0305 - val_acc: 0.9913\n",
            "Epoch 10/12\n",
            "60000/60000 [==============================] - 4s 60us/step - loss: 0.0649 - acc: 0.9811 - val_loss: 0.0317 - val_acc: 0.9908\n",
            "Epoch 11/12\n",
            "60000/60000 [==============================] - 4s 60us/step - loss: 0.0588 - acc: 0.9825 - val_loss: 0.0290 - val_acc: 0.9919\n",
            "Epoch 12/12\n",
            "60000/60000 [==============================] - 4s 59us/step - loss: 0.0596 - acc: 0.9824 - val_loss: 0.0310 - val_acc: 0.9910\n",
            "Test loss: 0.031007640762219672\n",
            "Test accuracy: 0.991\n"
          ],
          "name": "stdout"
        }
      ]
    },
    {
      "cell_type": "code",
      "metadata": {
        "id": "dUDRlBhZimvL",
        "colab_type": "code",
        "outputId": "0cdbf8e2-dbbe-47c9-b750-5e00c159e97e",
        "colab": {
          "base_uri": "https://localhost:8080/",
          "height": 318
        }
      },
      "source": [
        "%matplotlib inline\n",
        "score = model.evaluate(x_test, y_test, verbose=0) \n",
        "print('Test score:', score[0]) \n",
        "print('Test accuracy:', score[1])\n",
        "\n",
        "fig,ax = plt.subplots(1,1)\n",
        "ax.set_xlabel('epoch') ; ax.set_ylabel('Categorical Crossentropy Loss')\n",
        "\n",
        "# list of epoch numbers\n",
        "x = list(range(1,epochs+1))\n",
        "\n",
        "# print(history.history.keys())\n",
        "# dict_keys(['val_loss', 'val_acc', 'loss', 'acc'])\n",
        "# history = model_drop.fit(X_train, Y_train, batch_size=batch_size, epochs=nb_epoch, verbose=1, validation_data=(X_test, Y_test))\n",
        "\n",
        "# we will get val_loss and val_acc only when you pass the paramter validation_data\n",
        "# val_loss : validation loss\n",
        "# val_acc : validation accuracy\n",
        "\n",
        "# loss : training loss\n",
        "# acc : train accuracy\n",
        "# for each key in histrory.histrory we will have a list of length equal to number of epochs\n",
        "\n",
        "vy = history.history['val_loss']\n",
        "ty = history.history['loss']\n",
        "plt_dynamic(x, vy, ty, ax)"
      ],
      "execution_count": 0,
      "outputs": [
        {
          "output_type": "stream",
          "text": [
            "Test score: 0.031007640762219672\n",
            "Test accuracy: 0.991\n"
          ],
          "name": "stdout"
        },
        {
          "output_type": "display_data",
          "data": {
            "image/png": "[encoded data removed]",
            "text/plain": [
              "<Figure size 432x288 with 1 Axes>"
            ]
          },
          "metadata": {
            "tags": []
          }
        }
      ]
    },
    {
      "cell_type": "code",
      "metadata": {
        "colab_type": "code",
        "id": "XqmZClPFuBjG",
        "outputId": "e70c477a-89c5-4384-ba42-b9ea8489b264",
        "colab": {
          "base_uri": "https://localhost:8080/",
          "height": 492
        }
      },
      "source": [
        "# Model 2\n",
        "\n",
        "# kernel [5*5]\n",
        "# strides= (2, 2)\n",
        "# padding = 'same'\n",
        "# maxpoolsize= (4,4)\n",
        "# optimizer = 'adam'\n",
        "# conv2d -> dense(512) -> conv2d-maxpool-dropout-flatten -> dense(256) -> dense(128) \n",
        "\n",
        "\n",
        "model = Sequential()\n",
        "\n",
        "model.add(Conv2D(32, kernel_size=(5, 5), strides= (2, 2), activation='relu', input_shape=input_shape, padding = 'same'))\n",
        "\n",
        "model.add(Dense(512, activation='relu'))\n",
        "\n",
        "model.add(Conv2D(64, (5, 5), activation='relu'))\n",
        "model.add(MaxPooling2D(pool_size=(4, 4)))\n",
        "model.add(Dropout(0.25))\n",
        "model.add(Flatten())\n",
        "\n",
        "model.add(Dense(256, activation='relu'))\n",
        "model.add(Dropout(0.5))\n",
        "\n",
        "\n",
        "model.add(Dense(128, activation='relu'))\n",
        "\n",
        "model.add(Dense(num_classes, activation='softmax'))\n",
        "\n",
        "\n",
        "#model.compile(loss=keras.losses.categorical_crossentropy, optimizer=keras.optimizers.Adadelta(), metrics=['accuracy'])\n",
        "model.compile(loss=keras.losses.categorical_crossentropy, optimizer='adam', metrics=['accuracy'])\n",
        "\n",
        "\n",
        "history = model.fit(x_train, y_train,\n",
        "          batch_size=batch_size,\n",
        "          epochs=epochs,\n",
        "          verbose=1,\n",
        "          validation_data=(x_test, y_test))\n",
        "score = model.evaluate(x_test, y_test, verbose=0)\n",
        "\n",
        "\n",
        "print('Test loss:', score[0])\n",
        "print('Test accuracy:', score[1])"
      ],
      "execution_count": 0,
      "outputs": [
        {
          "output_type": "stream",
          "text": [
            "Train on 60000 samples, validate on 10000 samples\n",
            "Epoch 1/12\n",
            "60000/60000 [==============================] - 10s 159us/step - loss: 0.3011 - acc: 0.9024 - val_loss: 0.0463 - val_acc: 0.9845\n",
            "Epoch 2/12\n",
            "60000/60000 [==============================] - 8s 138us/step - loss: 0.0912 - acc: 0.9722 - val_loss: 0.0307 - val_acc: 0.9902\n",
            "Epoch 3/12\n",
            "60000/60000 [==============================] - 8s 138us/step - loss: 0.0666 - acc: 0.9801 - val_loss: 0.0284 - val_acc: 0.9917\n",
            "Epoch 4/12\n",
            "60000/60000 [==============================] - 8s 139us/step - loss: 0.0567 - acc: 0.9824 - val_loss: 0.0244 - val_acc: 0.9915\n",
            "Epoch 5/12\n",
            "60000/60000 [==============================] - 8s 139us/step - loss: 0.0481 - acc: 0.9855 - val_loss: 0.0232 - val_acc: 0.9925\n",
            "Epoch 6/12\n",
            "60000/60000 [==============================] - 8s 139us/step - loss: 0.0393 - acc: 0.9877 - val_loss: 0.0226 - val_acc: 0.9928\n",
            "Epoch 7/12\n",
            "60000/60000 [==============================] - 8s 139us/step - loss: 0.0367 - acc: 0.9886 - val_loss: 0.0262 - val_acc: 0.9911\n",
            "Epoch 8/12\n",
            "60000/60000 [==============================] - 8s 139us/step - loss: 0.0346 - acc: 0.9894 - val_loss: 0.0245 - val_acc: 0.9927\n",
            "Epoch 9/12\n",
            "60000/60000 [==============================] - 8s 139us/step - loss: 0.0304 - acc: 0.9906 - val_loss: 0.0230 - val_acc: 0.9930\n",
            "Epoch 10/12\n",
            "60000/60000 [==============================] - 8s 139us/step - loss: 0.0290 - acc: 0.9912 - val_loss: 0.0263 - val_acc: 0.9918\n",
            "Epoch 11/12\n",
            "60000/60000 [==============================] - 8s 140us/step - loss: 0.0272 - acc: 0.9919 - val_loss: 0.0254 - val_acc: 0.9927\n",
            "Epoch 12/12\n",
            "60000/60000 [==============================] - 8s 139us/step - loss: 0.0262 - acc: 0.9919 - val_loss: 0.0231 - val_acc: 0.9926\n",
            "Test loss: 0.023104002257308093\n",
            "Test accuracy: 0.9926\n"
          ],
          "name": "stdout"
        }
      ]
    },
    {
      "cell_type": "code",
      "metadata": {
        "id": "PLUlm0SRjMX-",
        "colab_type": "code",
        "outputId": "8be85be3-7864-4e6a-a6c0-782a9fb67eb8",
        "colab": {
          "base_uri": "https://localhost:8080/",
          "height": 318
        }
      },
      "source": [
        "%matplotlib inline\n",
        "score = model.evaluate(x_test, y_test, verbose=0) \n",
        "print('Test score:', score[0]) \n",
        "print('Test accuracy:', score[1])\n",
        "\n",
        "fig,ax = plt.subplots(1,1)\n",
        "ax.set_xlabel('epoch') ; ax.set_ylabel('Categorical Crossentropy Loss')\n",
        "\n",
        "# list of epoch numbers\n",
        "x = list(range(1,epochs+1))\n",
        "\n",
        "# print(history.history.keys())\n",
        "# dict_keys(['val_loss', 'val_acc', 'loss', 'acc'])\n",
        "# history = model_drop.fit(X_train, Y_train, batch_size=batch_size, epochs=nb_epoch, verbose=1, validation_data=(X_test, Y_test))\n",
        "\n",
        "# we will get val_loss and val_acc only when you pass the paramter validation_data\n",
        "# val_loss : validation loss\n",
        "# val_acc : validation accuracy\n",
        "\n",
        "# loss : training loss\n",
        "# acc : train accuracy\n",
        "# for each key in histrory.histrory we will have a list of length equal to number of epochs\n",
        "\n",
        "vy = history.history['val_loss']\n",
        "ty = history.history['loss']\n",
        "plt_dynamic(x, vy, ty, ax)"
      ],
      "execution_count": 0,
      "outputs": [
        {
          "output_type": "stream",
          "text": [
            "Test score: 0.023104002257308093\n",
            "Test accuracy: 0.9926\n"
          ],
          "name": "stdout"
        },
        {
          "output_type": "display_data",
          "data": {
            "image/png": "[encoded data removed]",
            "text/plain": [
              "<Figure size 432x288 with 1 Axes>"
            ]
          },
          "metadata": {
            "tags": []
          }
        }
      ]
    },
    {
      "cell_type": "code",
      "metadata": {
        "colab_type": "code",
        "id": "popS_c1fu-Cl",
        "outputId": "de51817b-f01e-4f08-e824-a119afe0aee2",
        "colab": {
          "base_uri": "https://localhost:8080/",
          "height": 492
        }
      },
      "source": [
        "# Model 3\n",
        "\n",
        "# kernel [7*7]\n",
        "# strides= (3, 3)\n",
        "# optimizer = 'RMSprop'\n",
        "# used BatchNorm\n",
        "\n",
        "from keras.layers.normalization import BatchNormalization\n",
        "\n",
        "model = Sequential()\n",
        "\n",
        "model.add(Conv2D(32, kernel_size=(7, 7), strides= (2, 2), activation='relu', input_shape=input_shape, padding = 'same'))\n",
        "\n",
        "model.add(Conv2D(64, (2, 2), activation='relu'))\n",
        "model.add(MaxPooling2D(pool_size=(4, 4)))\n",
        "model.add(Dropout(0.25))\n",
        "model.add(Flatten())\n",
        "\n",
        "model.add(Dense(256,activation='relu'))\n",
        "model.add(BatchNormalization())\n",
        "\n",
        "\n",
        "model.add(Dense(512,activation='relu'))\n",
        "model.add(Dropout(0.5))\n",
        "\n",
        "model.add(Dense(num_classes, activation='softmax'))\n",
        "\n",
        "\n",
        "model.compile(loss=keras.losses.categorical_crossentropy, optimizer='RMSprop', metrics=['accuracy'])\n",
        "\n",
        "\n",
        "history = model.fit(x_train, y_train,\n",
        "          batch_size=batch_size,\n",
        "          epochs=epochs,\n",
        "          verbose=1,\n",
        "          validation_data=(x_test, y_test))\n",
        "score = model.evaluate(x_test, y_test, verbose=0)\n",
        "\n",
        "\n",
        "print('Test loss:', score[0])\n",
        "print('Test accuracy:', score[1])"
      ],
      "execution_count": 0,
      "outputs": [
        {
          "output_type": "stream",
          "text": [
            "Train on 60000 samples, validate on 10000 samples\n",
            "Epoch 1/12\n",
            "60000/60000 [==============================] - 4s 68us/step - loss: 0.1829 - acc: 0.9433 - val_loss: 0.0827 - val_acc: 0.9746\n",
            "Epoch 2/12\n",
            "60000/60000 [==============================] - 3s 55us/step - loss: 0.0831 - acc: 0.9751 - val_loss: 0.0382 - val_acc: 0.9868\n",
            "Epoch 3/12\n",
            "60000/60000 [==============================] - 3s 56us/step - loss: 0.0682 - acc: 0.9802 - val_loss: 0.0494 - val_acc: 0.9874\n",
            "Epoch 4/12\n",
            "60000/60000 [==============================] - 3s 55us/step - loss: 0.0608 - acc: 0.9819 - val_loss: 0.0378 - val_acc: 0.9881\n",
            "Epoch 5/12\n",
            "60000/60000 [==============================] - 3s 56us/step - loss: 0.0567 - acc: 0.9847 - val_loss: 0.0351 - val_acc: 0.9903\n",
            "Epoch 6/12\n",
            "60000/60000 [==============================] - 3s 56us/step - loss: 0.0503 - acc: 0.9863 - val_loss: 0.0301 - val_acc: 0.9905\n",
            "Epoch 7/12\n",
            "60000/60000 [==============================] - 3s 56us/step - loss: 0.0484 - acc: 0.9860 - val_loss: 0.0257 - val_acc: 0.9930\n",
            "Epoch 8/12\n",
            "60000/60000 [==============================] - 3s 56us/step - loss: 0.0466 - acc: 0.9875 - val_loss: 0.0325 - val_acc: 0.9906\n",
            "Epoch 9/12\n",
            "60000/60000 [==============================] - 3s 55us/step - loss: 0.0441 - acc: 0.9882 - val_loss: 0.0226 - val_acc: 0.9931\n",
            "Epoch 10/12\n",
            "60000/60000 [==============================] - 3s 55us/step - loss: 0.0432 - acc: 0.9884 - val_loss: 0.0332 - val_acc: 0.9921\n",
            "Epoch 11/12\n",
            "60000/60000 [==============================] - 3s 55us/step - loss: 0.0414 - acc: 0.9888 - val_loss: 0.0291 - val_acc: 0.9917\n",
            "Epoch 12/12\n",
            "60000/60000 [==============================] - 3s 55us/step - loss: 0.0384 - acc: 0.9899 - val_loss: 0.0328 - val_acc: 0.9918\n",
            "Test loss: 0.032838189678625986\n",
            "Test accuracy: 0.9918\n"
          ],
          "name": "stdout"
        }
      ]
    },
    {
      "cell_type": "code",
      "metadata": {
        "id": "UPJWXEDDjO1J",
        "colab_type": "code",
        "outputId": "d45dea28-e770-4afe-8ef8-d1e7a7de93e1",
        "colab": {
          "base_uri": "https://localhost:8080/",
          "height": 318
        }
      },
      "source": [
        "%matplotlib inline\n",
        "score = model.evaluate(x_test, y_test, verbose=0) \n",
        "print('Test score:', score[0]) \n",
        "print('Test accuracy:', score[1])\n",
        "\n",
        "fig,ax = plt.subplots(1,1)\n",
        "ax.set_xlabel('epoch') ; ax.set_ylabel('Categorical Crossentropy Loss')\n",
        "\n",
        "# list of epoch numbers\n",
        "x = list(range(1,epochs+1))\n",
        "\n",
        "# print(history.history.keys())\n",
        "# dict_keys(['val_loss', 'val_acc', 'loss', 'acc'])\n",
        "# history = model_drop.fit(X_train, Y_train, batch_size=batch_size, epochs=nb_epoch, verbose=1, validation_data=(X_test, Y_test))\n",
        "\n",
        "# we will get val_loss and val_acc only when you pass the paramter validation_data\n",
        "# val_loss : validation loss\n",
        "# val_acc : validation accuracy\n",
        "\n",
        "# loss : training loss\n",
        "# acc : train accuracy\n",
        "# for each key in histrory.histrory we will have a list of length equal to number of epochs\n",
        "\n",
        "vy = history.history['val_loss']\n",
        "ty = history.history['loss']\n",
        "plt_dynamic(x, vy, ty, ax)"
      ],
      "execution_count": 0,
      "outputs": [
        {
          "output_type": "stream",
          "text": [
            "Test score: 0.032838189678625986\n",
            "Test accuracy: 0.9918\n"
          ],
          "name": "stdout"
        },
        {
          "output_type": "display_data",
          "data": {
            "image/png": "[encoded data removed]",
            "text/plain": [
              "<Figure size 432x288 with 1 Axes>"
            ]
          },
          "metadata": {
            "tags": []
          }
        }
      ]
    },
    {
      "cell_type": "code",
      "metadata": {
        "id": "_XdgZ8qs2dqP",
        "colab_type": "code",
        "colab": {
          "base_uri": "https://localhost:8080/",
          "height": 492
        },
        "outputId": "87993e34-0655-43dd-e93e-e22a97071be6"
      },
      "source": [
        "# Model 4\n",
        "\n",
        "# kernel [2*2]\n",
        "# strides= (1, 1)\n",
        "# 3 Conv2D layers followed by 2 MaxPool layers of size (2,2)\n",
        "# 3 hidden layers\n",
        "# kernel_initializer = 'lecun_normal'\n",
        "# activation='tanh'\n",
        "# optimizer = 'sgd'\n",
        "\n",
        "\n",
        "model = Sequential()\n",
        "\n",
        "model.add(Conv2D(16, kernel_size=(2, 2), strides=(1, 1), activation='tanh', input_shape=input_shape, kernel_initializer = 'lecun_normal' ))\n",
        "\n",
        "model.add(Conv2D(32, (2, 2), activation='tanh'))\n",
        "model.add(MaxPooling2D(pool_size=(2, 2)))\n",
        "model.add(Dropout(0.25))\n",
        "\n",
        "model.add(Conv2D(32, (2, 2), activation='tanh'))\n",
        "model.add(MaxPooling2D(pool_size=(2, 2)))\n",
        "model.add(Dropout(0.25))\n",
        "model.add(Flatten())\n",
        "\n",
        "model.add(Dense(64, activation='tanh'))\n",
        "model.add(Dropout(0.25))\n",
        "\n",
        "model.add(Dense(128, activation='tanh'))\n",
        "model.add(Dropout(0.35))\n",
        "\n",
        "model.add(Dense(num_classes, activation='softmax'))\n",
        "\n",
        "\n",
        "\n",
        "model.compile(loss=keras.losses.categorical_crossentropy, optimizer='sgd', metrics=['accuracy'])\n",
        "\n",
        "\n",
        "history = model.fit(x_train, y_train,\n",
        "          batch_size=batch_size,\n",
        "          epochs=epochs,\n",
        "          verbose=1,\n",
        "          validation_data=(x_test, y_test))\n",
        "score = model.evaluate(x_test, y_test, verbose=0)\n",
        "\n",
        "\n",
        "print('Test loss:', score[0])\n",
        "print('Test accuracy:', score[1])"
      ],
      "execution_count": 5,
      "outputs": [
        {
          "output_type": "stream",
          "text": [
            "Train on 60000 samples, validate on 10000 samples\n",
            "Epoch 1/12\n",
            "60000/60000 [==============================] - 4s 60us/step - loss: 1.3202 - acc: 0.5844 - val_loss: 0.5548 - val_acc: 0.8576\n",
            "Epoch 2/12\n",
            "60000/60000 [==============================] - 3s 50us/step - loss: 0.6239 - acc: 0.8109 - val_loss: 0.3711 - val_acc: 0.8946\n",
            "Epoch 3/12\n",
            "60000/60000 [==============================] - 3s 50us/step - loss: 0.4838 - acc: 0.8536 - val_loss: 0.3000 - val_acc: 0.9126\n",
            "Epoch 4/12\n",
            "60000/60000 [==============================] - 3s 50us/step - loss: 0.4092 - acc: 0.8775 - val_loss: 0.2503 - val_acc: 0.9252\n",
            "Epoch 5/12\n",
            "60000/60000 [==============================] - 3s 50us/step - loss: 0.3532 - acc: 0.8927 - val_loss: 0.2086 - val_acc: 0.9362\n",
            "Epoch 6/12\n",
            "60000/60000 [==============================] - 3s 50us/step - loss: 0.3076 - acc: 0.9078 - val_loss: 0.1841 - val_acc: 0.9444\n",
            "Epoch 7/12\n",
            "60000/60000 [==============================] - 3s 51us/step - loss: 0.2745 - acc: 0.9190 - val_loss: 0.1570 - val_acc: 0.9527\n",
            "Epoch 8/12\n",
            "60000/60000 [==============================] - 3s 50us/step - loss: 0.2496 - acc: 0.9256 - val_loss: 0.1405 - val_acc: 0.9594\n",
            "Epoch 9/12\n",
            "60000/60000 [==============================] - 3s 50us/step - loss: 0.2272 - acc: 0.9323 - val_loss: 0.1292 - val_acc: 0.9611\n",
            "Epoch 10/12\n",
            "60000/60000 [==============================] - 3s 50us/step - loss: 0.2087 - acc: 0.9379 - val_loss: 0.1172 - val_acc: 0.9645\n",
            "Epoch 11/12\n",
            "60000/60000 [==============================] - 3s 50us/step - loss: 0.1951 - acc: 0.9418 - val_loss: 0.1058 - val_acc: 0.9668\n",
            "Epoch 12/12\n",
            "60000/60000 [==============================] - 3s 49us/step - loss: 0.1830 - acc: 0.9451 - val_loss: 0.0980 - val_acc: 0.9694\n",
            "Test loss: 0.09795933519154787\n",
            "Test accuracy: 0.9694\n"
          ],
          "name": "stdout"
        }
      ]
    },
    {
      "cell_type": "code",
      "metadata": {
        "id": "TQD3E0Of2yLP",
        "colab_type": "code",
        "colab": {
          "base_uri": "https://localhost:8080/",
          "height": 318
        },
        "outputId": "4585e143-c453-4c37-c805-55a08eb40091"
      },
      "source": [
        "%matplotlib inline\n",
        "score = model.evaluate(x_test, y_test, verbose=0) \n",
        "print('Test score:', score[0]) \n",
        "print('Test accuracy:', score[1])\n",
        "\n",
        "fig,ax = plt.subplots(1,1)\n",
        "ax.set_xlabel('epoch') ; ax.set_ylabel('Categorical Crossentropy Loss')\n",
        "\n",
        "# list of epoch numbers\n",
        "x = list(range(1,epochs+1))\n",
        "\n",
        "# print(history.history.keys())\n",
        "# dict_keys(['val_loss', 'val_acc', 'loss', 'acc'])\n",
        "# history = model_drop.fit(X_train, Y_train, batch_size=batch_size, epochs=nb_epoch, verbose=1, validation_data=(X_test, Y_test))\n",
        "\n",
        "# we will get val_loss and val_acc only when you pass the paramter validation_data\n",
        "# val_loss : validation loss\n",
        "# val_acc : validation accuracy\n",
        "\n",
        "# loss : training loss\n",
        "# acc : train accuracy\n",
        "# for each key in histrory.histrory we will have a list of length equal to number of epochs\n",
        "\n",
        "vy = history.history['val_loss']\n",
        "ty = history.history['loss']\n",
        "plt_dynamic(x, vy, ty, ax)"
      ],
      "execution_count": 6,
      "outputs": [
        {
          "output_type": "stream",
          "text": [
            "Test score: 0.09795933519154787\n",
            "Test accuracy: 0.9694\n"
          ],
          "name": "stdout"
        },
        {
          "output_type": "display_data",
          "data": {
            "image/png": "[encoded data removed]",
            "text/plain": [
              "<Figure size 432x288 with 1 Axes>"
            ]
          },
          "metadata": {
            "tags": []
          }
        }
      ]
    },
    {
      "cell_type": "code",
      "metadata": {
        "id": "jYqTCCJ-2qKu",
        "colab_type": "code",
        "colab": {
          "base_uri": "https://localhost:8080/",
          "height": 492
        },
        "outputId": "1d4b96bf-4416-4b62-b769-857d7c97f832"
      },
      "source": [
        "# Model 5\n",
        "\n",
        "# kernel [5*5]\n",
        "# strides= (2, 2)\n",
        "# padding = 'same'\n",
        "# maxpoolsize= (4,4)\n",
        "# optimizer = 'nadam'\n",
        "# conv2d -> dense(512) -> conv2d-maxpool-dropout-flatten -> dense(256) -> dense(128) \n",
        "# kernel_initializer = 'he_uniform'\n",
        "# activation_function = 'elu'\n",
        "# optimizer = 'nadam'\n",
        "\n",
        "\n",
        "model = Sequential()\n",
        "\n",
        "model.add(Conv2D(32, kernel_size=(5, 5), strides= (2, 2), activation='elu', input_shape=input_shape, padding = 'same', kernel_initializer = 'he_uniform'))\n",
        "\n",
        "model.add(Dense(512, activation='elu'))\n",
        "\n",
        "model.add(Conv2D(64, (5, 5), activation='elu'))\n",
        "model.add(MaxPooling2D(pool_size=(4, 4)))\n",
        "model.add(Dropout(0.25))\n",
        "model.add(Flatten())\n",
        "\n",
        "model.add(Dense(256, activation='elu'))\n",
        "model.add(Dropout(0.5))\n",
        "\n",
        "\n",
        "model.add(Dense(128, activation='elu'))\n",
        "\n",
        "model.add(Dense(num_classes, activation='softmax'))\n",
        "\n",
        "\n",
        "#model.compile(loss=keras.losses.categorical_crossentropy, optimizer=keras.optimizers.Adadelta(), metrics=['accuracy'])\n",
        "model.compile(loss=keras.losses.categorical_crossentropy, optimizer='nadam', metrics=['accuracy'])\n",
        "\n",
        "\n",
        "history = model.fit(x_train, y_train,\n",
        "          batch_size=batch_size,\n",
        "          epochs=epochs,\n",
        "          verbose=1,\n",
        "          validation_data=(x_test, y_test))\n",
        "score = model.evaluate(x_test, y_test, verbose=0)\n",
        "\n",
        "\n",
        "print('Test loss:', score[0])\n",
        "print('Test accuracy:', score[1])"
      ],
      "execution_count": 7,
      "outputs": [
        {
          "output_type": "stream",
          "text": [
            "Train on 60000 samples, validate on 10000 samples\n",
            "Epoch 1/12\n",
            "60000/60000 [==============================] - 10s 169us/step - loss: 0.2545 - acc: 0.9221 - val_loss: 0.0667 - val_acc: 0.9811\n",
            "Epoch 2/12\n",
            "60000/60000 [==============================] - 9s 150us/step - loss: 0.1154 - acc: 0.9649 - val_loss: 0.0482 - val_acc: 0.9845\n",
            "Epoch 3/12\n",
            "60000/60000 [==============================] - 9s 150us/step - loss: 0.0913 - acc: 0.9731 - val_loss: 0.0480 - val_acc: 0.9870\n",
            "Epoch 4/12\n",
            "60000/60000 [==============================] - 9s 151us/step - loss: 0.0804 - acc: 0.9764 - val_loss: 0.0413 - val_acc: 0.9880\n",
            "Epoch 5/12\n",
            "60000/60000 [==============================] - 9s 152us/step - loss: 0.0718 - acc: 0.9786 - val_loss: 0.0442 - val_acc: 0.9871\n",
            "Epoch 6/12\n",
            "60000/60000 [==============================] - 9s 152us/step - loss: 0.0703 - acc: 0.9790 - val_loss: 0.0347 - val_acc: 0.9886\n",
            "Epoch 7/12\n",
            "60000/60000 [==============================] - 9s 151us/step - loss: 0.0624 - acc: 0.9815 - val_loss: 0.0353 - val_acc: 0.9906\n",
            "Epoch 8/12\n",
            "60000/60000 [==============================] - 9s 149us/step - loss: 0.0607 - acc: 0.9828 - val_loss: 0.0336 - val_acc: 0.9903\n",
            "Epoch 9/12\n",
            "60000/60000 [==============================] - 9s 149us/step - loss: 0.0622 - acc: 0.9816 - val_loss: 0.0434 - val_acc: 0.9875\n",
            "Epoch 10/12\n",
            "60000/60000 [==============================] - 9s 150us/step - loss: 0.0606 - acc: 0.9820 - val_loss: 0.0319 - val_acc: 0.9909\n",
            "Epoch 11/12\n",
            "60000/60000 [==============================] - 9s 149us/step - loss: 0.0623 - acc: 0.9823 - val_loss: 0.0311 - val_acc: 0.9918\n",
            "Epoch 12/12\n",
            "60000/60000 [==============================] - 9s 150us/step - loss: 0.0565 - acc: 0.9836 - val_loss: 0.0291 - val_acc: 0.9915\n",
            "Test loss: 0.02910749071416212\n",
            "Test accuracy: 0.9915\n"
          ],
          "name": "stdout"
        }
      ]
    },
    {
      "cell_type": "code",
      "metadata": {
        "id": "AvEJCjyh6cWI",
        "colab_type": "code",
        "colab": {
          "base_uri": "https://localhost:8080/",
          "height": 318
        },
        "outputId": "61ee1be4-f205-4f4f-c2a8-f1d83a464a5c"
      },
      "source": [
        "%matplotlib inline\n",
        "score = model.evaluate(x_test, y_test, verbose=0) \n",
        "print('Test score:', score[0]) \n",
        "print('Test accuracy:', score[1])\n",
        "\n",
        "fig,ax = plt.subplots(1,1)\n",
        "ax.set_xlabel('epoch') ; ax.set_ylabel('Categorical Crossentropy Loss')\n",
        "\n",
        "# list of epoch numbers\n",
        "x = list(range(1,epochs+1))\n",
        "\n",
        "# print(history.history.keys())\n",
        "# dict_keys(['val_loss', 'val_acc', 'loss', 'acc'])\n",
        "# history = model_drop.fit(X_train, Y_train, batch_size=batch_size, epochs=nb_epoch, verbose=1, validation_data=(X_test, Y_test))\n",
        "\n",
        "# we will get val_loss and val_acc only when you pass the paramter validation_data\n",
        "# val_loss : validation loss\n",
        "# val_acc : validation accuracy\n",
        "\n",
        "# loss : training loss\n",
        "# acc : train accuracy\n",
        "# for each key in histrory.histrory we will have a list of length equal to number of epochs\n",
        "\n",
        "vy = history.history['val_loss']\n",
        "ty = history.history['loss']\n",
        "plt_dynamic(x, vy, ty, ax)"
      ],
      "execution_count": 8,
      "outputs": [
        {
          "output_type": "stream",
          "text": [
            "Test score: 0.02910749071416212\n",
            "Test accuracy: 0.9915\n"
          ],
          "name": "stdout"
        },
        {
          "output_type": "display_data",
          "data": {
            "image/png": "[encoded data removed]",
            "text/plain": [
              "<Figure size 432x288 with 1 Axes>"
            ]
          },
          "metadata": {
            "tags": []
          }
        }
      ]
    },
    {
      "cell_type": "code",
      "metadata": {
        "id": "KXEAVz_n6gQx",
        "colab_type": "code",
        "colab": {
          "base_uri": "https://localhost:8080/",
          "height": 492
        },
        "outputId": "1f4b2230-fad6-4c12-d289-4e9cc471a256"
      },
      "source": [
        "# Model 6\n",
        "\n",
        "# kernel [7*7]\n",
        "# strides= (3, 3)\n",
        "# optimizer = 'RMSprop'\n",
        "# used BatchNorm\n",
        "# kernel_initializer = 'glorot_normal'\n",
        "# optimizer='adamax'\n",
        "# activation='selu'\n",
        "\n",
        "\n",
        "from keras.layers.normalization import BatchNormalization\n",
        "\n",
        "model = Sequential()\n",
        "\n",
        "model.add(Conv2D(32, kernel_size=(7, 7), strides= (2, 2), activation='selu', input_shape=input_shape, padding = 'same', kernel_initializer = 'glorot_normal'))\n",
        "\n",
        "model.add(Conv2D(64, (2, 2), activation='selu'))\n",
        "model.add(MaxPooling2D(pool_size=(4, 4)))\n",
        "model.add(Dropout(0.25))\n",
        "model.add(Flatten())\n",
        "\n",
        "model.add(Dense(256,activation='selu'))\n",
        "model.add(BatchNormalization())\n",
        "\n",
        "\n",
        "model.add(Dense(512,activation='selu'))\n",
        "model.add(Dropout(0.5))\n",
        "\n",
        "model.add(Dense(num_classes, activation='softmax'))\n",
        "\n",
        "\n",
        "model.compile(loss=keras.losses.categorical_crossentropy, optimizer='adamax', metrics=['accuracy'])\n",
        "\n",
        "\n",
        "history = model.fit(x_train, y_train,\n",
        "          batch_size=batch_size,\n",
        "          epochs=epochs,\n",
        "          verbose=1,\n",
        "          validation_data=(x_test, y_test))\n",
        "score = model.evaluate(x_test, y_test, verbose=0)\n",
        "\n",
        "\n",
        "print('Test loss:', score[0])\n",
        "print('Test accuracy:', score[1])"
      ],
      "execution_count": 10,
      "outputs": [
        {
          "output_type": "stream",
          "text": [
            "Train on 60000 samples, validate on 10000 samples\n",
            "Epoch 1/12\n",
            "60000/60000 [==============================] - 5s 81us/step - loss: 0.2107 - acc: 0.9361 - val_loss: 0.0567 - val_acc: 0.9820\n",
            "Epoch 2/12\n",
            "60000/60000 [==============================] - 4s 63us/step - loss: 0.1016 - acc: 0.9688 - val_loss: 0.0520 - val_acc: 0.9831\n",
            "Epoch 3/12\n",
            "60000/60000 [==============================] - 4s 64us/step - loss: 0.0850 - acc: 0.9747 - val_loss: 0.0510 - val_acc: 0.9835\n",
            "Epoch 4/12\n",
            "60000/60000 [==============================] - 4s 63us/step - loss: 0.0750 - acc: 0.9775 - val_loss: 0.0565 - val_acc: 0.9825\n",
            "Epoch 5/12\n",
            "60000/60000 [==============================] - 4s 64us/step - loss: 0.0679 - acc: 0.9786 - val_loss: 0.0430 - val_acc: 0.9868\n",
            "Epoch 6/12\n",
            "60000/60000 [==============================] - 4s 64us/step - loss: 0.0618 - acc: 0.9812 - val_loss: 0.0358 - val_acc: 0.9880\n",
            "Epoch 7/12\n",
            "60000/60000 [==============================] - 4s 64us/step - loss: 0.0548 - acc: 0.9834 - val_loss: 0.0364 - val_acc: 0.9892\n",
            "Epoch 8/12\n",
            "60000/60000 [==============================] - 4s 64us/step - loss: 0.0534 - acc: 0.9830 - val_loss: 0.0414 - val_acc: 0.9872\n",
            "Epoch 9/12\n",
            "60000/60000 [==============================] - 4s 64us/step - loss: 0.0491 - acc: 0.9849 - val_loss: 0.0321 - val_acc: 0.9889\n",
            "Epoch 10/12\n",
            "60000/60000 [==============================] - 4s 64us/step - loss: 0.0447 - acc: 0.9861 - val_loss: 0.0346 - val_acc: 0.9892\n",
            "Epoch 11/12\n",
            "60000/60000 [==============================] - 4s 64us/step - loss: 0.0419 - acc: 0.9865 - val_loss: 0.0318 - val_acc: 0.9901\n",
            "Epoch 12/12\n",
            "60000/60000 [==============================] - 4s 64us/step - loss: 0.0411 - acc: 0.9868 - val_loss: 0.0304 - val_acc: 0.9902\n",
            "Test loss: 0.030372555697989446\n",
            "Test accuracy: 0.9902\n"
          ],
          "name": "stdout"
        }
      ]
    },
    {
      "cell_type": "code",
      "metadata": {
        "id": "9hr6MAOU6lub",
        "colab_type": "code",
        "colab": {
          "base_uri": "https://localhost:8080/",
          "height": 318
        },
        "outputId": "e97603c6-7918-46d2-ff12-5088367f8913"
      },
      "source": [
        "%matplotlib inline\n",
        "score = model.evaluate(x_test, y_test, verbose=0) \n",
        "print('Test score:', score[0]) \n",
        "print('Test accuracy:', score[1])\n",
        "\n",
        "fig,ax = plt.subplots(1,1)\n",
        "ax.set_xlabel('epoch') ; ax.set_ylabel('Categorical Crossentropy Loss')\n",
        "\n",
        "# list of epoch numbers\n",
        "x = list(range(1,epochs+1))\n",
        "\n",
        "# print(history.history.keys())\n",
        "# dict_keys(['val_loss', 'val_acc', 'loss', 'acc'])\n",
        "# history = model_drop.fit(X_train, Y_train, batch_size=batch_size, epochs=nb_epoch, verbose=1, validation_data=(X_test, Y_test))\n",
        "\n",
        "# we will get val_loss and val_acc only when you pass the paramter validation_data\n",
        "# val_loss : validation loss\n",
        "# val_acc : validation accuracy\n",
        "\n",
        "# loss : training loss\n",
        "# acc : train accuracy\n",
        "# for each key in histrory.histrory we will have a list of length equal to number of epochs\n",
        "\n",
        "vy = history.history['val_loss']\n",
        "ty = history.history['loss']\n",
        "plt_dynamic(x, vy, ty, ax)\n"
      ],
      "execution_count": 11,
      "outputs": [
        {
          "output_type": "stream",
          "text": [
            "Test score: 0.030372555697989446\n",
            "Test accuracy: 0.9902\n"
          ],
          "name": "stdout"
        },
        {
          "output_type": "display_data",
          "data": {
            "image/png": "[encoded data removed]",
            "text/plain": [
              "<Figure size 432x288 with 1 Axes>"
            ]
          },
          "metadata": {
            "tags": []
          }
        }
      ]
    },
    {
      "cell_type": "markdown",
      "metadata": {
        "colab_type": "text",
        "id": "bDR5gW-HotMi"
      },
      "source": [
        "**Summary**\n",
        "\n",
        "1. Created 3 different models of kernel size: [2 * 2], [5 * 5], [7 * 7]\n",
        "2. Tried different number of conv layer, max pooling layers, dropout rates and optimizer.\n",
        "3. Plotted error charts\n",
        "\n",
        "**Model details**\n",
        "\n",
        "1. Model 1:\n",
        "    *  kernel [2*2]\n",
        "    *  strides= (1, 1)\n",
        "    *  3 Conv2D layers followed by 2 MaxPool layers of size (2,2)\n",
        "    *  3 hidden layers\n",
        "    \n",
        "2. Model 2:\n",
        "    * kernel [5*5]\n",
        "    * strides= (2, 2)\n",
        "    *  padding = 'same'\n",
        "    * maxpoolsize= (4,4)\n",
        "    * optimizer = 'adam'\n",
        "    * conv2d -> dense(512) -> conv2d-maxpool-dropout-flatten -> dense(256) -> dense(128) \n",
        "\n",
        "3. Model 3: \n",
        "    * kernel [7*7]\n",
        "    * strides= (3, 3)\n",
        "    * optimizer = 'RMSprop'\n",
        "    * used BatchNorm\n",
        "    \n",
        "4. Model 4:\n",
        "    *  kernel [2*2]\n",
        "    *  strides= (1, 1)\n",
        "    *  3 Conv2D layers followed by 2 MaxPool layers of size (2,2)\n",
        "    *  3 hidden layers\n",
        "    * kernel_initializer = 'lecun_normal'\n",
        "    * activation='tanh'\n",
        "    * optimizer = 'sgd'\n",
        "    \n",
        "5. Model 5:\n",
        "    * kernel [5*5]\n",
        "    * strides= (2, 2)\n",
        "    *  padding = 'same'\n",
        "    * maxpoolsize= (4,4)\n",
        "    * optimizer = 'adam'\n",
        "    * conv2d -> dense(512) -> conv2d-maxpool-dropout-flatten -> dense(256) -> dense(128) \n",
        "    * kernel_initializer = 'he_uniform'\n",
        "    * activation_function = 'elu'\n",
        "    * optimizer = 'nadam'\n",
        "\n",
        "6. Model 6: \n",
        "    * kernel [7*7]\n",
        "    * strides= (3, 3)\n",
        "    * optimizer = 'RMSprop'\n",
        "    * used BatchNorm    \n",
        "    * kernel_initializer = 'glorot_normal'\n",
        "    * optimizer='adamax'\n",
        "    * activation='selu'\n",
        "    \n",
        "    "
      ]
    },
    {
      "cell_type": "code",
      "metadata": {
        "colab_type": "code",
        "id": "15cDYNZBYsHy",
        "outputId": "94255b6b-6c39-48dd-e664-51f5235344a5",
        "colab": {
          "base_uri": "https://localhost:8080/",
          "height": 193
        }
      },
      "source": [
        "from prettytable import PrettyTable\n",
        "    \n",
        "x = PrettyTable()\n",
        "\n",
        "x.field_names = [\"Model\", \"Initializer\", \"Activation Function\", \"Optimizer\",\"Test Loss\", \"Test Accuracy\", ]\n",
        "\n",
        "# previous models\n",
        "x.add_row([\"Model 1\", \"glorot_uniform\", \"relu\", \"Adadelta\", 0.02941559650871495, 0.9911])\n",
        "x.add_row([\"Model 2\", \"glorot_uniform\", \"relu\", \"adam\", 0.024007717339053488, 0.9919])\n",
        "x.add_row([\"Model 3\", \"glorot_uniform\", \"relu\", \"RMSprop\", 0.03607280582701592, 0.991])\n",
        "\n",
        "# new models \n",
        "x.add_row([\"Model 4\", \"lecun_normal\", \"tanh\", \"sgd\", 0.09795933519154787, 0.9694])\n",
        "x.add_row([\"Model 5\", \"he_uniform\", \"elu\", \"nadam\", 0.02910749071416212, 0.9915])\n",
        "x.add_row([\"Model 6\", \"glorot_normal\", \"selu\", \"adamax\", 0.030372555697989446, 0.9902])\n",
        "\n",
        "print(x)"
      ],
      "execution_count": 12,
      "outputs": [
        {
          "output_type": "stream",
          "text": [
            "+---------+----------------+---------------------+-----------+----------------------+---------------+\n",
            "|  Model  |  Initializer   | Activation Function | Optimizer |      Test Loss       | Test Accuracy |\n",
            "+---------+----------------+---------------------+-----------+----------------------+---------------+\n",
            "| Model 1 | glorot_uniform |         relu        |  Adadelta | 0.02941559650871495  |     0.9911    |\n",
            "| Model 2 | glorot_uniform |         relu        |    adam   | 0.024007717339053488 |     0.9919    |\n",
            "| Model 3 | glorot_uniform |         relu        |  RMSprop  | 0.03607280582701592  |     0.991     |\n",
            "| Model 4 |  lecun_normal  |         tanh        |    sgd    | 0.09795933519154787  |     0.9694    |\n",
            "| Model 5 |   he_uniform   |         elu         |   nadam   | 0.02910749071416212  |     0.9915    |\n",
            "| Model 6 | glorot_normal  |         selu        |   adamax  | 0.030372555697989446 |     0.9902    |\n",
            "+---------+----------------+---------------------+-----------+----------------------+---------------+\n"
          ],
          "name": "stdout"
        }
      ]
    }
  ]
}